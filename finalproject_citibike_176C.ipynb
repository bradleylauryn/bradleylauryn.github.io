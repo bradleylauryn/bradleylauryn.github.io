{
  "cells": [
    {
      "cell_type": "markdown",
      "metadata": {
        "id": "view-in-github",
        "colab_type": "text"
      },
      "source": [
        "<a href=\"https://colab.research.google.com/github/bradleylauryn/bradleylauryn.github.io/blob/main/finalproject_citibike_176C.ipynb\" target=\"_parent\"><img src=\"https://colab.research.google.com/assets/colab-badge.svg\" alt=\"Open In Colab\"/></a>"
      ]
    },
    {
      "cell_type": "markdown",
      "metadata": {
        "id": "ULK5TKpJBZn_"
      },
      "source": [
        "# Packages"
      ]
    },
    {
      "cell_type": "code",
      "execution_count": null,
      "metadata": {
        "colab": {
          "base_uri": "https://localhost:8080/"
        },
        "id": "RS1-AhS_uhA5",
        "outputId": "e6ff771e-6b0d-4356-ea02-b9d1ad3306b5"
      },
      "outputs": [
        {
          "name": "stdout",
          "output_type": "stream",
          "text": [
            "Looking in indexes: https://pypi.org/simple, https://us-python.pkg.dev/colab-wheels/public/simple/\n",
            "Requirement already satisfied: geopandas in /usr/local/lib/python3.10/dist-packages (0.13.2)\n",
            "Requirement already satisfied: rtree in /usr/local/lib/python3.10/dist-packages (1.0.1)\n",
            "Requirement already satisfied: fiona in /usr/local/lib/python3.10/dist-packages (1.9.4.post1)\n",
            "Requirement already satisfied: shapely in /usr/local/lib/python3.10/dist-packages (2.0.1)\n",
            "Requirement already satisfied: pysal in /usr/local/lib/python3.10/dist-packages (23.1)\n",
            "Requirement already satisfied: seaborn in /usr/local/lib/python3.10/dist-packages (0.12.2)\n",
            "Requirement already satisfied: packaging in /usr/local/lib/python3.10/dist-packages (from geopandas) (23.1)\n",
            "Requirement already satisfied: pandas>=1.1.0 in /usr/local/lib/python3.10/dist-packages (from geopandas) (1.5.3)\n",
            "Requirement already satisfied: pyproj>=3.0.1 in /usr/local/lib/python3.10/dist-packages (from geopandas) (3.6.0)\n",
            "Requirement already satisfied: attrs>=19.2.0 in /usr/local/lib/python3.10/dist-packages (from fiona) (23.1.0)\n",
            "Requirement already satisfied: certifi in /usr/local/lib/python3.10/dist-packages (from fiona) (2022.12.7)\n",
            "Requirement already satisfied: click~=8.0 in /usr/local/lib/python3.10/dist-packages (from fiona) (8.1.3)\n",
            "Requirement already satisfied: click-plugins>=1.0 in /usr/local/lib/python3.10/dist-packages (from fiona) (1.1.1)\n",
            "Requirement already satisfied: cligj>=0.5 in /usr/local/lib/python3.10/dist-packages (from fiona) (0.7.2)\n",
            "Requirement already satisfied: six in /usr/local/lib/python3.10/dist-packages (from fiona) (1.16.0)\n",
            "Requirement already satisfied: numpy>=1.14 in /usr/local/lib/python3.10/dist-packages (from shapely) (1.22.4)\n",
            "Requirement already satisfied: libpysal>=4.7.0 in /usr/local/lib/python3.10/dist-packages (from pysal) (4.7.0)\n",
            "Requirement already satisfied: access>=1.1.8 in /usr/local/lib/python3.10/dist-packages (from pysal) (1.1.9)\n",
            "Requirement already satisfied: esda>=2.4.1 in /usr/local/lib/python3.10/dist-packages (from pysal) (2.4.3)\n",
            "Requirement already satisfied: giddy>=2.3.3 in /usr/local/lib/python3.10/dist-packages (from pysal) (2.3.4)\n",
            "Requirement already satisfied: inequality>=1.0.0 in /usr/local/lib/python3.10/dist-packages (from pysal) (1.0.0)\n",
            "Requirement already satisfied: pointpats>=2.2.0 in /usr/local/lib/python3.10/dist-packages (from pysal) (2.3.0)\n",
            "Requirement already satisfied: segregation>=2.3.1 in /usr/local/lib/python3.10/dist-packages (from pysal) (2.4.2)\n",
            "Requirement already satisfied: spaghetti>=1.7.2 in /usr/local/lib/python3.10/dist-packages (from pysal) (1.7.3)\n",
            "Requirement already satisfied: mgwr>=2.1.2 in /usr/local/lib/python3.10/dist-packages (from pysal) (2.1.2)\n",
            "Requirement already satisfied: momepy>=0.5.4 in /usr/local/lib/python3.10/dist-packages (from pysal) (0.6.0)\n",
            "Requirement already satisfied: spglm>=1.0.8 in /usr/local/lib/python3.10/dist-packages (from pysal) (1.0.8)\n",
            "Requirement already satisfied: spint>=1.0.7 in /usr/local/lib/python3.10/dist-packages (from pysal) (1.0.7)\n",
            "Requirement already satisfied: spreg>=1.3.0 in /usr/local/lib/python3.10/dist-packages (from pysal) (1.3.2)\n",
            "Requirement already satisfied: spvcm>=0.3.0 in /usr/local/lib/python3.10/dist-packages (from pysal) (0.3.0)\n",
            "Requirement already satisfied: tobler>=0.8.2 in /usr/local/lib/python3.10/dist-packages (from pysal) (0.10)\n",
            "Requirement already satisfied: mapclassify>=2.5.0 in /usr/local/lib/python3.10/dist-packages (from pysal) (2.5.0)\n",
            "Requirement already satisfied: splot>=1.1.5.post1 in /usr/local/lib/python3.10/dist-packages (from pysal) (1.1.5.post1)\n",
            "Requirement already satisfied: spopt>=0.5.0 in /usr/local/lib/python3.10/dist-packages (from pysal) (0.5.0)\n",
            "Requirement already satisfied: matplotlib!=3.6.1,>=3.1 in /usr/local/lib/python3.10/dist-packages (from seaborn) (3.7.1)\n",
            "Requirement already satisfied: requests>=2 in /usr/local/lib/python3.10/dist-packages (from access>=1.1.8->pysal) (2.27.1)\n",
            "Requirement already satisfied: scipy>=0.11 in /usr/local/lib/python3.10/dist-packages (from esda>=2.4.1->pysal) (1.10.1)\n",
            "Requirement already satisfied: scikit-learn in /usr/local/lib/python3.10/dist-packages (from esda>=2.4.1->pysal) (1.2.2)\n",
            "Requirement already satisfied: quantecon>=0.4.7 in /usr/local/lib/python3.10/dist-packages (from giddy>=2.3.3->pysal) (0.7.1)\n",
            "Requirement already satisfied: platformdirs in /usr/local/lib/python3.10/dist-packages (from libpysal>=4.7.0->pysal) (3.3.0)\n",
            "Requirement already satisfied: beautifulsoup4 in /usr/local/lib/python3.10/dist-packages (from libpysal>=4.7.0->pysal) (4.11.2)\n",
            "Requirement already satisfied: jinja2 in /usr/local/lib/python3.10/dist-packages (from libpysal>=4.7.0->pysal) (3.1.2)\n",
            "Requirement already satisfied: networkx in /usr/local/lib/python3.10/dist-packages (from mapclassify>=2.5.0->pysal) (3.1)\n",
            "Requirement already satisfied: contourpy>=1.0.1 in /usr/local/lib/python3.10/dist-packages (from matplotlib!=3.6.1,>=3.1->seaborn) (1.0.7)\n",
            "Requirement already satisfied: cycler>=0.10 in /usr/local/lib/python3.10/dist-packages (from matplotlib!=3.6.1,>=3.1->seaborn) (0.11.0)\n",
            "Requirement already satisfied: fonttools>=4.22.0 in /usr/local/lib/python3.10/dist-packages (from matplotlib!=3.6.1,>=3.1->seaborn) (4.39.3)\n",
            "Requirement already satisfied: kiwisolver>=1.0.1 in /usr/local/lib/python3.10/dist-packages (from matplotlib!=3.6.1,>=3.1->seaborn) (1.4.4)\n",
            "Requirement already satisfied: pillow>=6.2.0 in /usr/local/lib/python3.10/dist-packages (from matplotlib!=3.6.1,>=3.1->seaborn) (8.4.0)\n",
            "Requirement already satisfied: pyparsing>=2.3.1 in /usr/local/lib/python3.10/dist-packages (from matplotlib!=3.6.1,>=3.1->seaborn) (3.0.9)\n",
            "Requirement already satisfied: python-dateutil>=2.7 in /usr/local/lib/python3.10/dist-packages (from matplotlib!=3.6.1,>=3.1->seaborn) (2.8.2)\n",
            "Requirement already satisfied: tqdm>=4.27.0 in /usr/local/lib/python3.10/dist-packages (from momepy>=0.5.4->pysal) (4.65.0)\n",
            "Requirement already satisfied: pytz>=2020.1 in /usr/local/lib/python3.10/dist-packages (from pandas>=1.1.0->geopandas) (2022.7.1)\n",
            "Requirement already satisfied: deprecation in /usr/local/lib/python3.10/dist-packages (from segregation>=2.3.1->pysal) (2.1.0)\n",
            "Requirement already satisfied: joblib in /usr/local/lib/python3.10/dist-packages (from segregation>=2.3.1->pysal) (1.2.0)\n",
            "Requirement already satisfied: numba in /usr/local/lib/python3.10/dist-packages (from segregation>=2.3.1->pysal) (0.56.4)\n",
            "Requirement already satisfied: pulp in /usr/local/lib/python3.10/dist-packages (from spopt>=0.5.0->pysal) (2.7.0)\n",
            "Requirement already satisfied: rasterio in /usr/local/lib/python3.10/dist-packages (from tobler>=0.8.2->pysal) (1.3.7)\n",
            "Requirement already satisfied: statsmodels in /usr/local/lib/python3.10/dist-packages (from tobler>=0.8.2->pysal) (0.13.5)\n",
            "Requirement already satisfied: rasterstats in /usr/local/lib/python3.10/dist-packages (from tobler>=0.8.2->pysal) (0.19.0)\n",
            "Requirement already satisfied: sympy in /usr/local/lib/python3.10/dist-packages (from quantecon>=0.4.7->giddy>=2.3.3->pysal) (1.11.1)\n",
            "Requirement already satisfied: llvmlite<0.40,>=0.39.0dev0 in /usr/local/lib/python3.10/dist-packages (from numba->segregation>=2.3.1->pysal) (0.39.1)\n",
            "Requirement already satisfied: setuptools in /usr/local/lib/python3.10/dist-packages (from numba->segregation>=2.3.1->pysal) (67.7.2)\n",
            "Requirement already satisfied: urllib3<1.27,>=1.21.1 in /usr/local/lib/python3.10/dist-packages (from requests>=2->access>=1.1.8->pysal) (1.26.15)\n",
            "Requirement already satisfied: charset-normalizer~=2.0.0 in /usr/local/lib/python3.10/dist-packages (from requests>=2->access>=1.1.8->pysal) (2.0.12)\n",
            "Requirement already satisfied: idna<4,>=2.5 in /usr/local/lib/python3.10/dist-packages (from requests>=2->access>=1.1.8->pysal) (3.4)\n",
            "Requirement already satisfied: threadpoolctl>=2.0.0 in /usr/local/lib/python3.10/dist-packages (from scikit-learn->esda>=2.4.1->pysal) (3.1.0)\n",
            "Requirement already satisfied: soupsieve>1.2 in /usr/local/lib/python3.10/dist-packages (from beautifulsoup4->libpysal>=4.7.0->pysal) (2.4.1)\n",
            "Requirement already satisfied: MarkupSafe>=2.0 in /usr/local/lib/python3.10/dist-packages (from jinja2->libpysal>=4.7.0->pysal) (2.1.2)\n",
            "Requirement already satisfied: affine in /usr/local/lib/python3.10/dist-packages (from rasterio->tobler>=0.8.2->pysal) (2.4.0)\n",
            "Requirement already satisfied: snuggs>=1.4.1 in /usr/local/lib/python3.10/dist-packages (from rasterio->tobler>=0.8.2->pysal) (1.4.7)\n",
            "Requirement already satisfied: simplejson in /usr/local/lib/python3.10/dist-packages (from rasterstats->tobler>=0.8.2->pysal) (3.19.1)\n",
            "Requirement already satisfied: patsy>=0.5.2 in /usr/local/lib/python3.10/dist-packages (from statsmodels->tobler>=0.8.2->pysal) (0.5.3)\n",
            "Requirement already satisfied: mpmath>=0.19 in /usr/local/lib/python3.10/dist-packages (from sympy->quantecon>=0.4.7->giddy>=2.3.3->pysal) (1.3.0)\n"
          ]
        }
      ],
      "source": [
        "!pip install geopandas rtree fiona shapely pysal seaborn"
      ]
    },
    {
      "cell_type": "code",
      "execution_count": null,
      "metadata": {
        "colab": {
          "base_uri": "https://localhost:8080/"
        },
        "id": "PO25fVHIuuwR",
        "outputId": "948976a7-cc0d-40ad-f60b-d3c2b10e4b9d"
      },
      "outputs": [
        {
          "name": "stdout",
          "output_type": "stream",
          "text": [
            "Looking in indexes: https://pypi.org/simple, https://us-python.pkg.dev/colab-wheels/public/simple/\n",
            "Requirement already satisfied: seaborn in /usr/local/lib/python3.10/dist-packages (0.12.2)\n",
            "Requirement already satisfied: numpy!=1.24.0,>=1.17 in /usr/local/lib/python3.10/dist-packages (from seaborn) (1.22.4)\n",
            "Requirement already satisfied: pandas>=0.25 in /usr/local/lib/python3.10/dist-packages (from seaborn) (1.5.3)\n",
            "Requirement already satisfied: matplotlib!=3.6.1,>=3.1 in /usr/local/lib/python3.10/dist-packages (from seaborn) (3.7.1)\n",
            "Requirement already satisfied: contourpy>=1.0.1 in /usr/local/lib/python3.10/dist-packages (from matplotlib!=3.6.1,>=3.1->seaborn) (1.0.7)\n",
            "Requirement already satisfied: cycler>=0.10 in /usr/local/lib/python3.10/dist-packages (from matplotlib!=3.6.1,>=3.1->seaborn) (0.11.0)\n",
            "Requirement already satisfied: fonttools>=4.22.0 in /usr/local/lib/python3.10/dist-packages (from matplotlib!=3.6.1,>=3.1->seaborn) (4.39.3)\n",
            "Requirement already satisfied: kiwisolver>=1.0.1 in /usr/local/lib/python3.10/dist-packages (from matplotlib!=3.6.1,>=3.1->seaborn) (1.4.4)\n",
            "Requirement already satisfied: packaging>=20.0 in /usr/local/lib/python3.10/dist-packages (from matplotlib!=3.6.1,>=3.1->seaborn) (23.1)\n",
            "Requirement already satisfied: pillow>=6.2.0 in /usr/local/lib/python3.10/dist-packages (from matplotlib!=3.6.1,>=3.1->seaborn) (8.4.0)\n",
            "Requirement already satisfied: pyparsing>=2.3.1 in /usr/local/lib/python3.10/dist-packages (from matplotlib!=3.6.1,>=3.1->seaborn) (3.0.9)\n",
            "Requirement already satisfied: python-dateutil>=2.7 in /usr/local/lib/python3.10/dist-packages (from matplotlib!=3.6.1,>=3.1->seaborn) (2.8.2)\n",
            "Requirement already satisfied: pytz>=2020.1 in /usr/local/lib/python3.10/dist-packages (from pandas>=0.25->seaborn) (2022.7.1)\n",
            "Requirement already satisfied: six>=1.5 in /usr/local/lib/python3.10/dist-packages (from python-dateutil>=2.7->matplotlib!=3.6.1,>=3.1->seaborn) (1.16.0)\n"
          ]
        }
      ],
      "source": [
        "!pip install seaborn"
      ]
    },
    {
      "cell_type": "code",
      "execution_count": null,
      "metadata": {
        "colab": {
          "base_uri": "https://localhost:8080/"
        },
        "id": "glJZe2ON-EzH",
        "outputId": "d55f75ee-1126-422e-a1ea-1e6aaa328b59"
      },
      "outputs": [
        {
          "name": "stderr",
          "output_type": "stream",
          "text": [
            "/usr/local/lib/python3.10/dist-packages/spaghetti/network.py:40: FutureWarning: The next major release of pysal/spaghetti (2.0.0) will drop support for all ``libpysal.cg`` geometries. This change is a first step in refactoring ``spaghetti`` that is expected to result in dramatically reduced runtimes for network instantiation and operations. Users currently requiring network and point pattern input as ``libpysal.cg`` geometries should prepare for this simply by converting to ``shapely`` geometries.\n",
            "  warnings.warn(dep_msg, FutureWarning, stacklevel=1)\n"
          ]
        }
      ],
      "source": [
        "import pandas as pd\n",
        "import geopandas as gpd\n",
        "import pysal.lib\n",
        "from esda.moran import Moran\n",
        "from libpysal.weights import Queen, KNN\n",
        "import numpy as np\n",
        "import matplotlib.pyplot as plt\n",
        "import seaborn as sns\n",
        "from pysal.explore import esda  # Exploratory Spatial analytics\n",
        "from splot.esda import moran_scatterplot, lisa_cluster\n",
        "from esda.moran import Moran, Moran_Local\n",
        "from splot.esda import plot_local_autocorrelation\n",
        "from splot.esda import plot_moran\n",
        "from shapely.geometry import Point\n"
      ]
    },
    {
      "cell_type": "markdown",
      "metadata": {
        "id": "2e25U26vBe7d"
      },
      "source": [
        "# Load and Edit Dataset"
      ]
    },
    {
      "cell_type": "markdown",
      "metadata": {
        "id": "w0E7oO_sKFG5"
      },
      "source": [
        "**Load the Data**"
      ]
    },
    {
      "cell_type": "code",
      "execution_count": null,
      "metadata": {
        "id": "LcAiSya5KFG6"
      },
      "outputs": [],
      "source": [
        "file_path = [r'/content/201909-citibike-tripdata.csv']\n",
        "\n",
        "dfs = []\n",
        "\n",
        "for file_path in file_path:\n",
        "  df = pd.read_csv(file_path)\n",
        "  dfs.append(df)\n",
        "\n",
        "Bikeshare = pd.concat(dfs, ignore_index=True)"
      ]
    },
    {
      "cell_type": "code",
      "execution_count": null,
      "metadata": {
        "colab": {
          "base_uri": "https://localhost:8080/"
        },
        "id": "otdox01lzekC",
        "outputId": "81348304-2ffb-4168-eff1-5efa44ac00e8"
      },
      "outputs": [
        {
          "data": {
            "text/plain": [
              "(2444900, 15)"
            ]
          },
          "execution_count": 9,
          "metadata": {},
          "output_type": "execute_result"
        }
      ],
      "source": [
        "Bikeshare.shape"
      ]
    },
    {
      "cell_type": "code",
      "execution_count": null,
      "metadata": {
        "colab": {
          "base_uri": "https://localhost:8080/",
          "height": 506
        },
        "id": "CIeQDEAQKFG7",
        "outputId": "c6fef653-5f4f-4ef5-d765-7010e1f2072f"
      },
      "outputs": [
        {
          "data": {
            "text/html": [
              "\n",
              "  <div id=\"df-ca66099b-1001-4f34-a873-69de0792ce94\">\n",
              "    <div class=\"colab-df-container\">\n",
              "      <div>\n",
              "<style scoped>\n",
              "    .dataframe tbody tr th:only-of-type {\n",
              "        vertical-align: middle;\n",
              "    }\n",
              "\n",
              "    .dataframe tbody tr th {\n",
              "        vertical-align: top;\n",
              "    }\n",
              "\n",
              "    .dataframe thead th {\n",
              "        text-align: right;\n",
              "    }\n",
              "</style>\n",
              "<table border=\"1\" class=\"dataframe\">\n",
              "  <thead>\n",
              "    <tr style=\"text-align: right;\">\n",
              "      <th></th>\n",
              "      <th>tripduration</th>\n",
              "      <th>starttime</th>\n",
              "      <th>stoptime</th>\n",
              "      <th>start station id</th>\n",
              "      <th>start station name</th>\n",
              "      <th>start station latitude</th>\n",
              "      <th>start station longitude</th>\n",
              "      <th>end station id</th>\n",
              "      <th>end station name</th>\n",
              "      <th>end station latitude</th>\n",
              "      <th>end station longitude</th>\n",
              "      <th>bikeid</th>\n",
              "      <th>usertype</th>\n",
              "      <th>birth year</th>\n",
              "      <th>gender</th>\n",
              "    </tr>\n",
              "  </thead>\n",
              "  <tbody>\n",
              "    <tr>\n",
              "      <th>0</th>\n",
              "      <td>327</td>\n",
              "      <td>2019-09-01 00:00:01.9580</td>\n",
              "      <td>2019-09-01 00:05:29.3410</td>\n",
              "      <td>3733</td>\n",
              "      <td>Avenue C &amp; E 18 St</td>\n",
              "      <td>40.730563</td>\n",
              "      <td>-73.973984</td>\n",
              "      <td>504</td>\n",
              "      <td>1 Ave &amp; E 16 St</td>\n",
              "      <td>40.732219</td>\n",
              "      <td>-73.981656</td>\n",
              "      <td>39213</td>\n",
              "      <td>Subscriber</td>\n",
              "      <td>1968</td>\n",
              "      <td>1</td>\n",
              "    </tr>\n",
              "    <tr>\n",
              "      <th>1</th>\n",
              "      <td>1145</td>\n",
              "      <td>2019-09-01 00:00:04.1430</td>\n",
              "      <td>2019-09-01 00:19:09.8360</td>\n",
              "      <td>3329</td>\n",
              "      <td>Degraw St &amp; Smith St</td>\n",
              "      <td>40.682915</td>\n",
              "      <td>-73.993182</td>\n",
              "      <td>270</td>\n",
              "      <td>Adelphi St &amp; Myrtle Ave</td>\n",
              "      <td>40.693083</td>\n",
              "      <td>-73.971789</td>\n",
              "      <td>21257</td>\n",
              "      <td>Customer</td>\n",
              "      <td>1969</td>\n",
              "      <td>0</td>\n",
              "    </tr>\n",
              "    <tr>\n",
              "      <th>2</th>\n",
              "      <td>1293</td>\n",
              "      <td>2019-09-01 00:00:07.3090</td>\n",
              "      <td>2019-09-01 00:21:40.7580</td>\n",
              "      <td>3168</td>\n",
              "      <td>Central Park West &amp; W 85 St</td>\n",
              "      <td>40.784727</td>\n",
              "      <td>-73.969617</td>\n",
              "      <td>423</td>\n",
              "      <td>W 54 St &amp; 9 Ave</td>\n",
              "      <td>40.765849</td>\n",
              "      <td>-73.986905</td>\n",
              "      <td>15242</td>\n",
              "      <td>Customer</td>\n",
              "      <td>1969</td>\n",
              "      <td>0</td>\n",
              "    </tr>\n",
              "    <tr>\n",
              "      <th>3</th>\n",
              "      <td>1753</td>\n",
              "      <td>2019-09-01 00:00:08.0640</td>\n",
              "      <td>2019-09-01 00:29:21.5040</td>\n",
              "      <td>3299</td>\n",
              "      <td>E 98 St &amp; Park Ave</td>\n",
              "      <td>40.788130</td>\n",
              "      <td>-73.952060</td>\n",
              "      <td>3160</td>\n",
              "      <td>Central Park West &amp; W 76 St</td>\n",
              "      <td>40.778968</td>\n",
              "      <td>-73.973747</td>\n",
              "      <td>38760</td>\n",
              "      <td>Subscriber</td>\n",
              "      <td>1990</td>\n",
              "      <td>1</td>\n",
              "    </tr>\n",
              "    <tr>\n",
              "      <th>4</th>\n",
              "      <td>613</td>\n",
              "      <td>2019-09-01 00:00:12.8510</td>\n",
              "      <td>2019-09-01 00:10:26.1850</td>\n",
              "      <td>486</td>\n",
              "      <td>Broadway &amp; W 29 St</td>\n",
              "      <td>40.746201</td>\n",
              "      <td>-73.988557</td>\n",
              "      <td>478</td>\n",
              "      <td>11 Ave &amp; W 41 St</td>\n",
              "      <td>40.760301</td>\n",
              "      <td>-73.998842</td>\n",
              "      <td>32094</td>\n",
              "      <td>Subscriber</td>\n",
              "      <td>1992</td>\n",
              "      <td>1</td>\n",
              "    </tr>\n",
              "  </tbody>\n",
              "</table>\n",
              "</div>\n",
              "      <button class=\"colab-df-convert\" onclick=\"convertToInteractive('df-ca66099b-1001-4f34-a873-69de0792ce94')\"\n",
              "              title=\"Convert this dataframe to an interactive table.\"\n",
              "              style=\"display:none;\">\n",
              "        \n",
              "  <svg xmlns=\"http://www.w3.org/2000/svg\" height=\"24px\"viewBox=\"0 0 24 24\"\n",
              "       width=\"24px\">\n",
              "    <path d=\"M0 0h24v24H0V0z\" fill=\"none\"/>\n",
              "    <path d=\"M18.56 5.44l.94 2.06.94-2.06 2.06-.94-2.06-.94-.94-2.06-.94 2.06-2.06.94zm-11 1L8.5 8.5l.94-2.06 2.06-.94-2.06-.94L8.5 2.5l-.94 2.06-2.06.94zm10 10l.94 2.06.94-2.06 2.06-.94-2.06-.94-.94-2.06-.94 2.06-2.06.94z\"/><path d=\"M17.41 7.96l-1.37-1.37c-.4-.4-.92-.59-1.43-.59-.52 0-1.04.2-1.43.59L10.3 9.45l-7.72 7.72c-.78.78-.78 2.05 0 2.83L4 21.41c.39.39.9.59 1.41.59.51 0 1.02-.2 1.41-.59l7.78-7.78 2.81-2.81c.8-.78.8-2.07 0-2.86zM5.41 20L4 18.59l7.72-7.72 1.47 1.35L5.41 20z\"/>\n",
              "  </svg>\n",
              "      </button>\n",
              "      \n",
              "  <style>\n",
              "    .colab-df-container {\n",
              "      display:flex;\n",
              "      flex-wrap:wrap;\n",
              "      gap: 12px;\n",
              "    }\n",
              "\n",
              "    .colab-df-convert {\n",
              "      background-color: #E8F0FE;\n",
              "      border: none;\n",
              "      border-radius: 50%;\n",
              "      cursor: pointer;\n",
              "      display: none;\n",
              "      fill: #1967D2;\n",
              "      height: 32px;\n",
              "      padding: 0 0 0 0;\n",
              "      width: 32px;\n",
              "    }\n",
              "\n",
              "    .colab-df-convert:hover {\n",
              "      background-color: #E2EBFA;\n",
              "      box-shadow: 0px 1px 2px rgba(60, 64, 67, 0.3), 0px 1px 3px 1px rgba(60, 64, 67, 0.15);\n",
              "      fill: #174EA6;\n",
              "    }\n",
              "\n",
              "    [theme=dark] .colab-df-convert {\n",
              "      background-color: #3B4455;\n",
              "      fill: #D2E3FC;\n",
              "    }\n",
              "\n",
              "    [theme=dark] .colab-df-convert:hover {\n",
              "      background-color: #434B5C;\n",
              "      box-shadow: 0px 1px 3px 1px rgba(0, 0, 0, 0.15);\n",
              "      filter: drop-shadow(0px 1px 2px rgba(0, 0, 0, 0.3));\n",
              "      fill: #FFFFFF;\n",
              "    }\n",
              "  </style>\n",
              "\n",
              "      <script>\n",
              "        const buttonEl =\n",
              "          document.querySelector('#df-ca66099b-1001-4f34-a873-69de0792ce94 button.colab-df-convert');\n",
              "        buttonEl.style.display =\n",
              "          google.colab.kernel.accessAllowed ? 'block' : 'none';\n",
              "\n",
              "        async function convertToInteractive(key) {\n",
              "          const element = document.querySelector('#df-ca66099b-1001-4f34-a873-69de0792ce94');\n",
              "          const dataTable =\n",
              "            await google.colab.kernel.invokeFunction('convertToInteractive',\n",
              "                                                     [key], {});\n",
              "          if (!dataTable) return;\n",
              "\n",
              "          const docLinkHtml = 'Like what you see? Visit the ' +\n",
              "            '<a target=\"_blank\" href=https://colab.research.google.com/notebooks/data_table.ipynb>data table notebook</a>'\n",
              "            + ' to learn more about interactive tables.';\n",
              "          element.innerHTML = '';\n",
              "          dataTable['output_type'] = 'display_data';\n",
              "          await google.colab.output.renderOutput(dataTable, element);\n",
              "          const docLink = document.createElement('div');\n",
              "          docLink.innerHTML = docLinkHtml;\n",
              "          element.appendChild(docLink);\n",
              "        }\n",
              "      </script>\n",
              "    </div>\n",
              "  </div>\n",
              "  "
            ],
            "text/plain": [
              "   tripduration                 starttime                  stoptime  \\\n",
              "0           327  2019-09-01 00:00:01.9580  2019-09-01 00:05:29.3410   \n",
              "1          1145  2019-09-01 00:00:04.1430  2019-09-01 00:19:09.8360   \n",
              "2          1293  2019-09-01 00:00:07.3090  2019-09-01 00:21:40.7580   \n",
              "3          1753  2019-09-01 00:00:08.0640  2019-09-01 00:29:21.5040   \n",
              "4           613  2019-09-01 00:00:12.8510  2019-09-01 00:10:26.1850   \n",
              "\n",
              "   start station id           start station name  start station latitude  \\\n",
              "0              3733           Avenue C & E 18 St               40.730563   \n",
              "1              3329         Degraw St & Smith St               40.682915   \n",
              "2              3168  Central Park West & W 85 St               40.784727   \n",
              "3              3299           E 98 St & Park Ave               40.788130   \n",
              "4               486           Broadway & W 29 St               40.746201   \n",
              "\n",
              "   start station longitude  end station id             end station name  \\\n",
              "0               -73.973984             504              1 Ave & E 16 St   \n",
              "1               -73.993182             270      Adelphi St & Myrtle Ave   \n",
              "2               -73.969617             423              W 54 St & 9 Ave   \n",
              "3               -73.952060            3160  Central Park West & W 76 St   \n",
              "4               -73.988557             478             11 Ave & W 41 St   \n",
              "\n",
              "   end station latitude  end station longitude  bikeid    usertype  \\\n",
              "0             40.732219             -73.981656   39213  Subscriber   \n",
              "1             40.693083             -73.971789   21257    Customer   \n",
              "2             40.765849             -73.986905   15242    Customer   \n",
              "3             40.778968             -73.973747   38760  Subscriber   \n",
              "4             40.760301             -73.998842   32094  Subscriber   \n",
              "\n",
              "   birth year  gender  \n",
              "0        1968       1  \n",
              "1        1969       0  \n",
              "2        1969       0  \n",
              "3        1990       1  \n",
              "4        1992       1  "
            ]
          },
          "execution_count": 10,
          "metadata": {},
          "output_type": "execute_result"
        }
      ],
      "source": [
        "Bikeshare.head()"
      ]
    },
    {
      "cell_type": "markdown",
      "metadata": {
        "id": "p32PdzpoKFG8"
      },
      "source": [
        "**2. Get age column**"
      ]
    },
    {
      "cell_type": "code",
      "execution_count": null,
      "metadata": {
        "colab": {
          "base_uri": "https://localhost:8080/",
          "height": 925
        },
        "id": "AbNkEwMMKFG8",
        "outputId": "0b6d9ddc-0fb9-463f-dfb4-6efebc426485"
      },
      "outputs": [
        {
          "data": {
            "text/html": [
              "\n",
              "  <div id=\"df-74bc2a45-87b2-44fa-8466-cdd62e753cfe\">\n",
              "    <div class=\"colab-df-container\">\n",
              "      <div>\n",
              "<style scoped>\n",
              "    .dataframe tbody tr th:only-of-type {\n",
              "        vertical-align: middle;\n",
              "    }\n",
              "\n",
              "    .dataframe tbody tr th {\n",
              "        vertical-align: top;\n",
              "    }\n",
              "\n",
              "    .dataframe thead th {\n",
              "        text-align: right;\n",
              "    }\n",
              "</style>\n",
              "<table border=\"1\" class=\"dataframe\">\n",
              "  <thead>\n",
              "    <tr style=\"text-align: right;\">\n",
              "      <th></th>\n",
              "      <th>tripduration</th>\n",
              "      <th>starttime</th>\n",
              "      <th>stoptime</th>\n",
              "      <th>start station id</th>\n",
              "      <th>start station name</th>\n",
              "      <th>start station latitude</th>\n",
              "      <th>start station longitude</th>\n",
              "      <th>end station id</th>\n",
              "      <th>end station name</th>\n",
              "      <th>end station latitude</th>\n",
              "      <th>end station longitude</th>\n",
              "      <th>bikeid</th>\n",
              "      <th>usertype</th>\n",
              "      <th>birth year</th>\n",
              "      <th>gender</th>\n",
              "      <th>age</th>\n",
              "    </tr>\n",
              "  </thead>\n",
              "  <tbody>\n",
              "    <tr>\n",
              "      <th>0</th>\n",
              "      <td>327</td>\n",
              "      <td>2019-09-01 00:00:01.9580</td>\n",
              "      <td>2019-09-01 00:05:29.3410</td>\n",
              "      <td>3733</td>\n",
              "      <td>Avenue C &amp; E 18 St</td>\n",
              "      <td>40.730563</td>\n",
              "      <td>-73.973984</td>\n",
              "      <td>504</td>\n",
              "      <td>1 Ave &amp; E 16 St</td>\n",
              "      <td>40.732219</td>\n",
              "      <td>-73.981656</td>\n",
              "      <td>39213</td>\n",
              "      <td>Subscriber</td>\n",
              "      <td>1968</td>\n",
              "      <td>1</td>\n",
              "      <td>51</td>\n",
              "    </tr>\n",
              "    <tr>\n",
              "      <th>1</th>\n",
              "      <td>1145</td>\n",
              "      <td>2019-09-01 00:00:04.1430</td>\n",
              "      <td>2019-09-01 00:19:09.8360</td>\n",
              "      <td>3329</td>\n",
              "      <td>Degraw St &amp; Smith St</td>\n",
              "      <td>40.682915</td>\n",
              "      <td>-73.993182</td>\n",
              "      <td>270</td>\n",
              "      <td>Adelphi St &amp; Myrtle Ave</td>\n",
              "      <td>40.693083</td>\n",
              "      <td>-73.971789</td>\n",
              "      <td>21257</td>\n",
              "      <td>Customer</td>\n",
              "      <td>1969</td>\n",
              "      <td>0</td>\n",
              "      <td>50</td>\n",
              "    </tr>\n",
              "    <tr>\n",
              "      <th>2</th>\n",
              "      <td>1293</td>\n",
              "      <td>2019-09-01 00:00:07.3090</td>\n",
              "      <td>2019-09-01 00:21:40.7580</td>\n",
              "      <td>3168</td>\n",
              "      <td>Central Park West &amp; W 85 St</td>\n",
              "      <td>40.784727</td>\n",
              "      <td>-73.969617</td>\n",
              "      <td>423</td>\n",
              "      <td>W 54 St &amp; 9 Ave</td>\n",
              "      <td>40.765849</td>\n",
              "      <td>-73.986905</td>\n",
              "      <td>15242</td>\n",
              "      <td>Customer</td>\n",
              "      <td>1969</td>\n",
              "      <td>0</td>\n",
              "      <td>50</td>\n",
              "    </tr>\n",
              "    <tr>\n",
              "      <th>3</th>\n",
              "      <td>1753</td>\n",
              "      <td>2019-09-01 00:00:08.0640</td>\n",
              "      <td>2019-09-01 00:29:21.5040</td>\n",
              "      <td>3299</td>\n",
              "      <td>E 98 St &amp; Park Ave</td>\n",
              "      <td>40.788130</td>\n",
              "      <td>-73.952060</td>\n",
              "      <td>3160</td>\n",
              "      <td>Central Park West &amp; W 76 St</td>\n",
              "      <td>40.778968</td>\n",
              "      <td>-73.973747</td>\n",
              "      <td>38760</td>\n",
              "      <td>Subscriber</td>\n",
              "      <td>1990</td>\n",
              "      <td>1</td>\n",
              "      <td>29</td>\n",
              "    </tr>\n",
              "    <tr>\n",
              "      <th>4</th>\n",
              "      <td>613</td>\n",
              "      <td>2019-09-01 00:00:12.8510</td>\n",
              "      <td>2019-09-01 00:10:26.1850</td>\n",
              "      <td>486</td>\n",
              "      <td>Broadway &amp; W 29 St</td>\n",
              "      <td>40.746201</td>\n",
              "      <td>-73.988557</td>\n",
              "      <td>478</td>\n",
              "      <td>11 Ave &amp; W 41 St</td>\n",
              "      <td>40.760301</td>\n",
              "      <td>-73.998842</td>\n",
              "      <td>32094</td>\n",
              "      <td>Subscriber</td>\n",
              "      <td>1992</td>\n",
              "      <td>1</td>\n",
              "      <td>27</td>\n",
              "    </tr>\n",
              "    <tr>\n",
              "      <th>...</th>\n",
              "      <td>...</td>\n",
              "      <td>...</td>\n",
              "      <td>...</td>\n",
              "      <td>...</td>\n",
              "      <td>...</td>\n",
              "      <td>...</td>\n",
              "      <td>...</td>\n",
              "      <td>...</td>\n",
              "      <td>...</td>\n",
              "      <td>...</td>\n",
              "      <td>...</td>\n",
              "      <td>...</td>\n",
              "      <td>...</td>\n",
              "      <td>...</td>\n",
              "      <td>...</td>\n",
              "      <td>...</td>\n",
              "    </tr>\n",
              "    <tr>\n",
              "      <th>2444895</th>\n",
              "      <td>1764</td>\n",
              "      <td>2019-09-30 23:59:22.7670</td>\n",
              "      <td>2019-10-01 00:28:47.3180</td>\n",
              "      <td>3314</td>\n",
              "      <td>W 95 St &amp; Broadway</td>\n",
              "      <td>40.793770</td>\n",
              "      <td>-73.971888</td>\n",
              "      <td>3161</td>\n",
              "      <td>W 76 St &amp; Columbus Ave</td>\n",
              "      <td>40.780184</td>\n",
              "      <td>-73.977285</td>\n",
              "      <td>41516</td>\n",
              "      <td>Customer</td>\n",
              "      <td>1995</td>\n",
              "      <td>1</td>\n",
              "      <td>24</td>\n",
              "    </tr>\n",
              "    <tr>\n",
              "      <th>2444896</th>\n",
              "      <td>378</td>\n",
              "      <td>2019-09-30 23:59:27.9270</td>\n",
              "      <td>2019-10-01 00:05:46.5700</td>\n",
              "      <td>316</td>\n",
              "      <td>Fulton St &amp; William St</td>\n",
              "      <td>40.709560</td>\n",
              "      <td>-74.006536</td>\n",
              "      <td>327</td>\n",
              "      <td>Vesey Pl &amp; River Terrace</td>\n",
              "      <td>40.715338</td>\n",
              "      <td>-74.016584</td>\n",
              "      <td>31124</td>\n",
              "      <td>Subscriber</td>\n",
              "      <td>1959</td>\n",
              "      <td>2</td>\n",
              "      <td>60</td>\n",
              "    </tr>\n",
              "    <tr>\n",
              "      <th>2444897</th>\n",
              "      <td>561</td>\n",
              "      <td>2019-09-30 23:59:29.1450</td>\n",
              "      <td>2019-10-01 00:08:50.8070</td>\n",
              "      <td>3260</td>\n",
              "      <td>Mercer St &amp; Bleecker St</td>\n",
              "      <td>40.727064</td>\n",
              "      <td>-73.996621</td>\n",
              "      <td>393</td>\n",
              "      <td>E 5 St &amp; Avenue C</td>\n",
              "      <td>40.722992</td>\n",
              "      <td>-73.979955</td>\n",
              "      <td>30285</td>\n",
              "      <td>Customer</td>\n",
              "      <td>1998</td>\n",
              "      <td>1</td>\n",
              "      <td>21</td>\n",
              "    </tr>\n",
              "    <tr>\n",
              "      <th>2444898</th>\n",
              "      <td>311</td>\n",
              "      <td>2019-09-30 23:59:42.2520</td>\n",
              "      <td>2019-10-01 00:04:54.2320</td>\n",
              "      <td>3746</td>\n",
              "      <td>6 Ave &amp; Broome St</td>\n",
              "      <td>40.724308</td>\n",
              "      <td>-74.004730</td>\n",
              "      <td>3435</td>\n",
              "      <td>Grand St &amp; Elizabeth St</td>\n",
              "      <td>40.718822</td>\n",
              "      <td>-73.995960</td>\n",
              "      <td>38290</td>\n",
              "      <td>Subscriber</td>\n",
              "      <td>1989</td>\n",
              "      <td>1</td>\n",
              "      <td>30</td>\n",
              "    </tr>\n",
              "    <tr>\n",
              "      <th>2444899</th>\n",
              "      <td>1500</td>\n",
              "      <td>2019-09-30 23:59:55.3740</td>\n",
              "      <td>2019-10-01 00:24:55.8400</td>\n",
              "      <td>331</td>\n",
              "      <td>Pike St &amp; Monroe St</td>\n",
              "      <td>40.711731</td>\n",
              "      <td>-73.991930</td>\n",
              "      <td>2012</td>\n",
              "      <td>E 27 St &amp; 1 Ave</td>\n",
              "      <td>40.739445</td>\n",
              "      <td>-73.976806</td>\n",
              "      <td>34013</td>\n",
              "      <td>Customer</td>\n",
              "      <td>1969</td>\n",
              "      <td>0</td>\n",
              "      <td>50</td>\n",
              "    </tr>\n",
              "  </tbody>\n",
              "</table>\n",
              "<p>2444900 rows × 16 columns</p>\n",
              "</div>\n",
              "      <button class=\"colab-df-convert\" onclick=\"convertToInteractive('df-74bc2a45-87b2-44fa-8466-cdd62e753cfe')\"\n",
              "              title=\"Convert this dataframe to an interactive table.\"\n",
              "              style=\"display:none;\">\n",
              "        \n",
              "  <svg xmlns=\"http://www.w3.org/2000/svg\" height=\"24px\"viewBox=\"0 0 24 24\"\n",
              "       width=\"24px\">\n",
              "    <path d=\"M0 0h24v24H0V0z\" fill=\"none\"/>\n",
              "    <path d=\"M18.56 5.44l.94 2.06.94-2.06 2.06-.94-2.06-.94-.94-2.06-.94 2.06-2.06.94zm-11 1L8.5 8.5l.94-2.06 2.06-.94-2.06-.94L8.5 2.5l-.94 2.06-2.06.94zm10 10l.94 2.06.94-2.06 2.06-.94-2.06-.94-.94-2.06-.94 2.06-2.06.94z\"/><path d=\"M17.41 7.96l-1.37-1.37c-.4-.4-.92-.59-1.43-.59-.52 0-1.04.2-1.43.59L10.3 9.45l-7.72 7.72c-.78.78-.78 2.05 0 2.83L4 21.41c.39.39.9.59 1.41.59.51 0 1.02-.2 1.41-.59l7.78-7.78 2.81-2.81c.8-.78.8-2.07 0-2.86zM5.41 20L4 18.59l7.72-7.72 1.47 1.35L5.41 20z\"/>\n",
              "  </svg>\n",
              "      </button>\n",
              "      \n",
              "  <style>\n",
              "    .colab-df-container {\n",
              "      display:flex;\n",
              "      flex-wrap:wrap;\n",
              "      gap: 12px;\n",
              "    }\n",
              "\n",
              "    .colab-df-convert {\n",
              "      background-color: #E8F0FE;\n",
              "      border: none;\n",
              "      border-radius: 50%;\n",
              "      cursor: pointer;\n",
              "      display: none;\n",
              "      fill: #1967D2;\n",
              "      height: 32px;\n",
              "      padding: 0 0 0 0;\n",
              "      width: 32px;\n",
              "    }\n",
              "\n",
              "    .colab-df-convert:hover {\n",
              "      background-color: #E2EBFA;\n",
              "      box-shadow: 0px 1px 2px rgba(60, 64, 67, 0.3), 0px 1px 3px 1px rgba(60, 64, 67, 0.15);\n",
              "      fill: #174EA6;\n",
              "    }\n",
              "\n",
              "    [theme=dark] .colab-df-convert {\n",
              "      background-color: #3B4455;\n",
              "      fill: #D2E3FC;\n",
              "    }\n",
              "\n",
              "    [theme=dark] .colab-df-convert:hover {\n",
              "      background-color: #434B5C;\n",
              "      box-shadow: 0px 1px 3px 1px rgba(0, 0, 0, 0.15);\n",
              "      filter: drop-shadow(0px 1px 2px rgba(0, 0, 0, 0.3));\n",
              "      fill: #FFFFFF;\n",
              "    }\n",
              "  </style>\n",
              "\n",
              "      <script>\n",
              "        const buttonEl =\n",
              "          document.querySelector('#df-74bc2a45-87b2-44fa-8466-cdd62e753cfe button.colab-df-convert');\n",
              "        buttonEl.style.display =\n",
              "          google.colab.kernel.accessAllowed ? 'block' : 'none';\n",
              "\n",
              "        async function convertToInteractive(key) {\n",
              "          const element = document.querySelector('#df-74bc2a45-87b2-44fa-8466-cdd62e753cfe');\n",
              "          const dataTable =\n",
              "            await google.colab.kernel.invokeFunction('convertToInteractive',\n",
              "                                                     [key], {});\n",
              "          if (!dataTable) return;\n",
              "\n",
              "          const docLinkHtml = 'Like what you see? Visit the ' +\n",
              "            '<a target=\"_blank\" href=https://colab.research.google.com/notebooks/data_table.ipynb>data table notebook</a>'\n",
              "            + ' to learn more about interactive tables.';\n",
              "          element.innerHTML = '';\n",
              "          dataTable['output_type'] = 'display_data';\n",
              "          await google.colab.output.renderOutput(dataTable, element);\n",
              "          const docLink = document.createElement('div');\n",
              "          docLink.innerHTML = docLinkHtml;\n",
              "          element.appendChild(docLink);\n",
              "        }\n",
              "      </script>\n",
              "    </div>\n",
              "  </div>\n",
              "  "
            ],
            "text/plain": [
              "         tripduration                 starttime                  stoptime  \\\n",
              "0                 327  2019-09-01 00:00:01.9580  2019-09-01 00:05:29.3410   \n",
              "1                1145  2019-09-01 00:00:04.1430  2019-09-01 00:19:09.8360   \n",
              "2                1293  2019-09-01 00:00:07.3090  2019-09-01 00:21:40.7580   \n",
              "3                1753  2019-09-01 00:00:08.0640  2019-09-01 00:29:21.5040   \n",
              "4                 613  2019-09-01 00:00:12.8510  2019-09-01 00:10:26.1850   \n",
              "...               ...                       ...                       ...   \n",
              "2444895          1764  2019-09-30 23:59:22.7670  2019-10-01 00:28:47.3180   \n",
              "2444896           378  2019-09-30 23:59:27.9270  2019-10-01 00:05:46.5700   \n",
              "2444897           561  2019-09-30 23:59:29.1450  2019-10-01 00:08:50.8070   \n",
              "2444898           311  2019-09-30 23:59:42.2520  2019-10-01 00:04:54.2320   \n",
              "2444899          1500  2019-09-30 23:59:55.3740  2019-10-01 00:24:55.8400   \n",
              "\n",
              "         start station id           start station name  \\\n",
              "0                    3733           Avenue C & E 18 St   \n",
              "1                    3329         Degraw St & Smith St   \n",
              "2                    3168  Central Park West & W 85 St   \n",
              "3                    3299           E 98 St & Park Ave   \n",
              "4                     486           Broadway & W 29 St   \n",
              "...                   ...                          ...   \n",
              "2444895              3314           W 95 St & Broadway   \n",
              "2444896               316       Fulton St & William St   \n",
              "2444897              3260      Mercer St & Bleecker St   \n",
              "2444898              3746            6 Ave & Broome St   \n",
              "2444899               331          Pike St & Monroe St   \n",
              "\n",
              "         start station latitude  start station longitude  end station id  \\\n",
              "0                     40.730563               -73.973984             504   \n",
              "1                     40.682915               -73.993182             270   \n",
              "2                     40.784727               -73.969617             423   \n",
              "3                     40.788130               -73.952060            3160   \n",
              "4                     40.746201               -73.988557             478   \n",
              "...                         ...                      ...             ...   \n",
              "2444895               40.793770               -73.971888            3161   \n",
              "2444896               40.709560               -74.006536             327   \n",
              "2444897               40.727064               -73.996621             393   \n",
              "2444898               40.724308               -74.004730            3435   \n",
              "2444899               40.711731               -73.991930            2012   \n",
              "\n",
              "                    end station name  end station latitude  \\\n",
              "0                    1 Ave & E 16 St             40.732219   \n",
              "1            Adelphi St & Myrtle Ave             40.693083   \n",
              "2                    W 54 St & 9 Ave             40.765849   \n",
              "3        Central Park West & W 76 St             40.778968   \n",
              "4                   11 Ave & W 41 St             40.760301   \n",
              "...                              ...                   ...   \n",
              "2444895       W 76 St & Columbus Ave             40.780184   \n",
              "2444896     Vesey Pl & River Terrace             40.715338   \n",
              "2444897            E 5 St & Avenue C             40.722992   \n",
              "2444898      Grand St & Elizabeth St             40.718822   \n",
              "2444899              E 27 St & 1 Ave             40.739445   \n",
              "\n",
              "         end station longitude  bikeid    usertype  birth year  gender  age  \n",
              "0                   -73.981656   39213  Subscriber        1968       1   51  \n",
              "1                   -73.971789   21257    Customer        1969       0   50  \n",
              "2                   -73.986905   15242    Customer        1969       0   50  \n",
              "3                   -73.973747   38760  Subscriber        1990       1   29  \n",
              "4                   -73.998842   32094  Subscriber        1992       1   27  \n",
              "...                        ...     ...         ...         ...     ...  ...  \n",
              "2444895             -73.977285   41516    Customer        1995       1   24  \n",
              "2444896             -74.016584   31124  Subscriber        1959       2   60  \n",
              "2444897             -73.979955   30285    Customer        1998       1   21  \n",
              "2444898             -73.995960   38290  Subscriber        1989       1   30  \n",
              "2444899             -73.976806   34013    Customer        1969       0   50  \n",
              "\n",
              "[2444900 rows x 16 columns]"
            ]
          },
          "execution_count": 11,
          "metadata": {},
          "output_type": "execute_result"
        }
      ],
      "source": [
        "Year = 2019\n",
        "Bikeshare['age'] = Year - Bikeshare['birth year']\n",
        "Bikeshare"
      ]
    },
    {
      "cell_type": "markdown",
      "metadata": {
        "id": "ynOYTC9v2uGK"
      },
      "source": [
        "**3. Drop round trips**"
      ]
    },
    {
      "cell_type": "code",
      "execution_count": null,
      "metadata": {
        "id": "IDkNmMqt2uGK"
      },
      "outputs": [],
      "source": [
        "Bike_one_way = Bikeshare[(Bikeshare['start station name'] != Bikeshare['end station name'])].copy()"
      ]
    },
    {
      "cell_type": "code",
      "execution_count": null,
      "metadata": {
        "colab": {
          "base_uri": "https://localhost:8080/"
        },
        "id": "yHk6gt3m2uGK",
        "outputId": "17b1c847-59b0-4907-88c7-fd12fad35f6b"
      },
      "outputs": [
        {
          "data": {
            "text/plain": [
              "(2390193, 16)"
            ]
          },
          "execution_count": 13,
          "metadata": {},
          "output_type": "execute_result"
        }
      ],
      "source": [
        "Bike_one_way.shape"
      ]
    },
    {
      "cell_type": "markdown",
      "metadata": {
        "id": "lXwSfhm12uGL"
      },
      "source": [
        "**4. Drop irrelevant columns**"
      ]
    },
    {
      "cell_type": "code",
      "execution_count": null,
      "metadata": {
        "id": "Sdmd_x4n2uGL"
      },
      "outputs": [],
      "source": [
        "columns_to_drop = ['gender', 'bikeid', 'usertype']\n",
        "Bike_true = Bike_one_way.drop(columns_to_drop, axis=1)"
      ]
    },
    {
      "cell_type": "markdown",
      "metadata": {
        "id": "KhSgB-WN2uGL"
      },
      "source": [
        "**5. Drop rows with empty values**"
      ]
    },
    {
      "cell_type": "code",
      "execution_count": null,
      "metadata": {
        "colab": {
          "base_uri": "https://localhost:8080/",
          "height": 925
        },
        "id": "ZSuPXzlC2uGL",
        "outputId": "db1ffe69-0874-49ef-dd2a-d2652f73f2a0"
      },
      "outputs": [
        {
          "data": {
            "text/html": [
              "\n",
              "  <div id=\"df-9043b304-b8fc-4154-b211-be409d5c90b5\">\n",
              "    <div class=\"colab-df-container\">\n",
              "      <div>\n",
              "<style scoped>\n",
              "    .dataframe tbody tr th:only-of-type {\n",
              "        vertical-align: middle;\n",
              "    }\n",
              "\n",
              "    .dataframe tbody tr th {\n",
              "        vertical-align: top;\n",
              "    }\n",
              "\n",
              "    .dataframe thead th {\n",
              "        text-align: right;\n",
              "    }\n",
              "</style>\n",
              "<table border=\"1\" class=\"dataframe\">\n",
              "  <thead>\n",
              "    <tr style=\"text-align: right;\">\n",
              "      <th></th>\n",
              "      <th>tripduration</th>\n",
              "      <th>starttime</th>\n",
              "      <th>stoptime</th>\n",
              "      <th>start station id</th>\n",
              "      <th>start station name</th>\n",
              "      <th>start station latitude</th>\n",
              "      <th>start station longitude</th>\n",
              "      <th>end station id</th>\n",
              "      <th>end station name</th>\n",
              "      <th>end station latitude</th>\n",
              "      <th>end station longitude</th>\n",
              "      <th>birth year</th>\n",
              "      <th>age</th>\n",
              "    </tr>\n",
              "  </thead>\n",
              "  <tbody>\n",
              "    <tr>\n",
              "      <th>0</th>\n",
              "      <td>327</td>\n",
              "      <td>2019-09-01 00:00:01.9580</td>\n",
              "      <td>2019-09-01 00:05:29.3410</td>\n",
              "      <td>3733</td>\n",
              "      <td>Avenue C &amp; E 18 St</td>\n",
              "      <td>40.730563</td>\n",
              "      <td>-73.973984</td>\n",
              "      <td>504</td>\n",
              "      <td>1 Ave &amp; E 16 St</td>\n",
              "      <td>40.732219</td>\n",
              "      <td>-73.981656</td>\n",
              "      <td>1968</td>\n",
              "      <td>51</td>\n",
              "    </tr>\n",
              "    <tr>\n",
              "      <th>1</th>\n",
              "      <td>1145</td>\n",
              "      <td>2019-09-01 00:00:04.1430</td>\n",
              "      <td>2019-09-01 00:19:09.8360</td>\n",
              "      <td>3329</td>\n",
              "      <td>Degraw St &amp; Smith St</td>\n",
              "      <td>40.682915</td>\n",
              "      <td>-73.993182</td>\n",
              "      <td>270</td>\n",
              "      <td>Adelphi St &amp; Myrtle Ave</td>\n",
              "      <td>40.693083</td>\n",
              "      <td>-73.971789</td>\n",
              "      <td>1969</td>\n",
              "      <td>50</td>\n",
              "    </tr>\n",
              "    <tr>\n",
              "      <th>2</th>\n",
              "      <td>1293</td>\n",
              "      <td>2019-09-01 00:00:07.3090</td>\n",
              "      <td>2019-09-01 00:21:40.7580</td>\n",
              "      <td>3168</td>\n",
              "      <td>Central Park West &amp; W 85 St</td>\n",
              "      <td>40.784727</td>\n",
              "      <td>-73.969617</td>\n",
              "      <td>423</td>\n",
              "      <td>W 54 St &amp; 9 Ave</td>\n",
              "      <td>40.765849</td>\n",
              "      <td>-73.986905</td>\n",
              "      <td>1969</td>\n",
              "      <td>50</td>\n",
              "    </tr>\n",
              "    <tr>\n",
              "      <th>3</th>\n",
              "      <td>1753</td>\n",
              "      <td>2019-09-01 00:00:08.0640</td>\n",
              "      <td>2019-09-01 00:29:21.5040</td>\n",
              "      <td>3299</td>\n",
              "      <td>E 98 St &amp; Park Ave</td>\n",
              "      <td>40.788130</td>\n",
              "      <td>-73.952060</td>\n",
              "      <td>3160</td>\n",
              "      <td>Central Park West &amp; W 76 St</td>\n",
              "      <td>40.778968</td>\n",
              "      <td>-73.973747</td>\n",
              "      <td>1990</td>\n",
              "      <td>29</td>\n",
              "    </tr>\n",
              "    <tr>\n",
              "      <th>4</th>\n",
              "      <td>613</td>\n",
              "      <td>2019-09-01 00:00:12.8510</td>\n",
              "      <td>2019-09-01 00:10:26.1850</td>\n",
              "      <td>486</td>\n",
              "      <td>Broadway &amp; W 29 St</td>\n",
              "      <td>40.746201</td>\n",
              "      <td>-73.988557</td>\n",
              "      <td>478</td>\n",
              "      <td>11 Ave &amp; W 41 St</td>\n",
              "      <td>40.760301</td>\n",
              "      <td>-73.998842</td>\n",
              "      <td>1992</td>\n",
              "      <td>27</td>\n",
              "    </tr>\n",
              "    <tr>\n",
              "      <th>...</th>\n",
              "      <td>...</td>\n",
              "      <td>...</td>\n",
              "      <td>...</td>\n",
              "      <td>...</td>\n",
              "      <td>...</td>\n",
              "      <td>...</td>\n",
              "      <td>...</td>\n",
              "      <td>...</td>\n",
              "      <td>...</td>\n",
              "      <td>...</td>\n",
              "      <td>...</td>\n",
              "      <td>...</td>\n",
              "      <td>...</td>\n",
              "    </tr>\n",
              "    <tr>\n",
              "      <th>2444895</th>\n",
              "      <td>1764</td>\n",
              "      <td>2019-09-30 23:59:22.7670</td>\n",
              "      <td>2019-10-01 00:28:47.3180</td>\n",
              "      <td>3314</td>\n",
              "      <td>W 95 St &amp; Broadway</td>\n",
              "      <td>40.793770</td>\n",
              "      <td>-73.971888</td>\n",
              "      <td>3161</td>\n",
              "      <td>W 76 St &amp; Columbus Ave</td>\n",
              "      <td>40.780184</td>\n",
              "      <td>-73.977285</td>\n",
              "      <td>1995</td>\n",
              "      <td>24</td>\n",
              "    </tr>\n",
              "    <tr>\n",
              "      <th>2444896</th>\n",
              "      <td>378</td>\n",
              "      <td>2019-09-30 23:59:27.9270</td>\n",
              "      <td>2019-10-01 00:05:46.5700</td>\n",
              "      <td>316</td>\n",
              "      <td>Fulton St &amp; William St</td>\n",
              "      <td>40.709560</td>\n",
              "      <td>-74.006536</td>\n",
              "      <td>327</td>\n",
              "      <td>Vesey Pl &amp; River Terrace</td>\n",
              "      <td>40.715338</td>\n",
              "      <td>-74.016584</td>\n",
              "      <td>1959</td>\n",
              "      <td>60</td>\n",
              "    </tr>\n",
              "    <tr>\n",
              "      <th>2444897</th>\n",
              "      <td>561</td>\n",
              "      <td>2019-09-30 23:59:29.1450</td>\n",
              "      <td>2019-10-01 00:08:50.8070</td>\n",
              "      <td>3260</td>\n",
              "      <td>Mercer St &amp; Bleecker St</td>\n",
              "      <td>40.727064</td>\n",
              "      <td>-73.996621</td>\n",
              "      <td>393</td>\n",
              "      <td>E 5 St &amp; Avenue C</td>\n",
              "      <td>40.722992</td>\n",
              "      <td>-73.979955</td>\n",
              "      <td>1998</td>\n",
              "      <td>21</td>\n",
              "    </tr>\n",
              "    <tr>\n",
              "      <th>2444898</th>\n",
              "      <td>311</td>\n",
              "      <td>2019-09-30 23:59:42.2520</td>\n",
              "      <td>2019-10-01 00:04:54.2320</td>\n",
              "      <td>3746</td>\n",
              "      <td>6 Ave &amp; Broome St</td>\n",
              "      <td>40.724308</td>\n",
              "      <td>-74.004730</td>\n",
              "      <td>3435</td>\n",
              "      <td>Grand St &amp; Elizabeth St</td>\n",
              "      <td>40.718822</td>\n",
              "      <td>-73.995960</td>\n",
              "      <td>1989</td>\n",
              "      <td>30</td>\n",
              "    </tr>\n",
              "    <tr>\n",
              "      <th>2444899</th>\n",
              "      <td>1500</td>\n",
              "      <td>2019-09-30 23:59:55.3740</td>\n",
              "      <td>2019-10-01 00:24:55.8400</td>\n",
              "      <td>331</td>\n",
              "      <td>Pike St &amp; Monroe St</td>\n",
              "      <td>40.711731</td>\n",
              "      <td>-73.991930</td>\n",
              "      <td>2012</td>\n",
              "      <td>E 27 St &amp; 1 Ave</td>\n",
              "      <td>40.739445</td>\n",
              "      <td>-73.976806</td>\n",
              "      <td>1969</td>\n",
              "      <td>50</td>\n",
              "    </tr>\n",
              "  </tbody>\n",
              "</table>\n",
              "<p>2390193 rows × 13 columns</p>\n",
              "</div>\n",
              "      <button class=\"colab-df-convert\" onclick=\"convertToInteractive('df-9043b304-b8fc-4154-b211-be409d5c90b5')\"\n",
              "              title=\"Convert this dataframe to an interactive table.\"\n",
              "              style=\"display:none;\">\n",
              "        \n",
              "  <svg xmlns=\"http://www.w3.org/2000/svg\" height=\"24px\"viewBox=\"0 0 24 24\"\n",
              "       width=\"24px\">\n",
              "    <path d=\"M0 0h24v24H0V0z\" fill=\"none\"/>\n",
              "    <path d=\"M18.56 5.44l.94 2.06.94-2.06 2.06-.94-2.06-.94-.94-2.06-.94 2.06-2.06.94zm-11 1L8.5 8.5l.94-2.06 2.06-.94-2.06-.94L8.5 2.5l-.94 2.06-2.06.94zm10 10l.94 2.06.94-2.06 2.06-.94-2.06-.94-.94-2.06-.94 2.06-2.06.94z\"/><path d=\"M17.41 7.96l-1.37-1.37c-.4-.4-.92-.59-1.43-.59-.52 0-1.04.2-1.43.59L10.3 9.45l-7.72 7.72c-.78.78-.78 2.05 0 2.83L4 21.41c.39.39.9.59 1.41.59.51 0 1.02-.2 1.41-.59l7.78-7.78 2.81-2.81c.8-.78.8-2.07 0-2.86zM5.41 20L4 18.59l7.72-7.72 1.47 1.35L5.41 20z\"/>\n",
              "  </svg>\n",
              "      </button>\n",
              "      \n",
              "  <style>\n",
              "    .colab-df-container {\n",
              "      display:flex;\n",
              "      flex-wrap:wrap;\n",
              "      gap: 12px;\n",
              "    }\n",
              "\n",
              "    .colab-df-convert {\n",
              "      background-color: #E8F0FE;\n",
              "      border: none;\n",
              "      border-radius: 50%;\n",
              "      cursor: pointer;\n",
              "      display: none;\n",
              "      fill: #1967D2;\n",
              "      height: 32px;\n",
              "      padding: 0 0 0 0;\n",
              "      width: 32px;\n",
              "    }\n",
              "\n",
              "    .colab-df-convert:hover {\n",
              "      background-color: #E2EBFA;\n",
              "      box-shadow: 0px 1px 2px rgba(60, 64, 67, 0.3), 0px 1px 3px 1px rgba(60, 64, 67, 0.15);\n",
              "      fill: #174EA6;\n",
              "    }\n",
              "\n",
              "    [theme=dark] .colab-df-convert {\n",
              "      background-color: #3B4455;\n",
              "      fill: #D2E3FC;\n",
              "    }\n",
              "\n",
              "    [theme=dark] .colab-df-convert:hover {\n",
              "      background-color: #434B5C;\n",
              "      box-shadow: 0px 1px 3px 1px rgba(0, 0, 0, 0.15);\n",
              "      filter: drop-shadow(0px 1px 2px rgba(0, 0, 0, 0.3));\n",
              "      fill: #FFFFFF;\n",
              "    }\n",
              "  </style>\n",
              "\n",
              "      <script>\n",
              "        const buttonEl =\n",
              "          document.querySelector('#df-9043b304-b8fc-4154-b211-be409d5c90b5 button.colab-df-convert');\n",
              "        buttonEl.style.display =\n",
              "          google.colab.kernel.accessAllowed ? 'block' : 'none';\n",
              "\n",
              "        async function convertToInteractive(key) {\n",
              "          const element = document.querySelector('#df-9043b304-b8fc-4154-b211-be409d5c90b5');\n",
              "          const dataTable =\n",
              "            await google.colab.kernel.invokeFunction('convertToInteractive',\n",
              "                                                     [key], {});\n",
              "          if (!dataTable) return;\n",
              "\n",
              "          const docLinkHtml = 'Like what you see? Visit the ' +\n",
              "            '<a target=\"_blank\" href=https://colab.research.google.com/notebooks/data_table.ipynb>data table notebook</a>'\n",
              "            + ' to learn more about interactive tables.';\n",
              "          element.innerHTML = '';\n",
              "          dataTable['output_type'] = 'display_data';\n",
              "          await google.colab.output.renderOutput(dataTable, element);\n",
              "          const docLink = document.createElement('div');\n",
              "          docLink.innerHTML = docLinkHtml;\n",
              "          element.appendChild(docLink);\n",
              "        }\n",
              "      </script>\n",
              "    </div>\n",
              "  </div>\n",
              "  "
            ],
            "text/plain": [
              "         tripduration                 starttime                  stoptime  \\\n",
              "0                 327  2019-09-01 00:00:01.9580  2019-09-01 00:05:29.3410   \n",
              "1                1145  2019-09-01 00:00:04.1430  2019-09-01 00:19:09.8360   \n",
              "2                1293  2019-09-01 00:00:07.3090  2019-09-01 00:21:40.7580   \n",
              "3                1753  2019-09-01 00:00:08.0640  2019-09-01 00:29:21.5040   \n",
              "4                 613  2019-09-01 00:00:12.8510  2019-09-01 00:10:26.1850   \n",
              "...               ...                       ...                       ...   \n",
              "2444895          1764  2019-09-30 23:59:22.7670  2019-10-01 00:28:47.3180   \n",
              "2444896           378  2019-09-30 23:59:27.9270  2019-10-01 00:05:46.5700   \n",
              "2444897           561  2019-09-30 23:59:29.1450  2019-10-01 00:08:50.8070   \n",
              "2444898           311  2019-09-30 23:59:42.2520  2019-10-01 00:04:54.2320   \n",
              "2444899          1500  2019-09-30 23:59:55.3740  2019-10-01 00:24:55.8400   \n",
              "\n",
              "         start station id           start station name  \\\n",
              "0                    3733           Avenue C & E 18 St   \n",
              "1                    3329         Degraw St & Smith St   \n",
              "2                    3168  Central Park West & W 85 St   \n",
              "3                    3299           E 98 St & Park Ave   \n",
              "4                     486           Broadway & W 29 St   \n",
              "...                   ...                          ...   \n",
              "2444895              3314           W 95 St & Broadway   \n",
              "2444896               316       Fulton St & William St   \n",
              "2444897              3260      Mercer St & Bleecker St   \n",
              "2444898              3746            6 Ave & Broome St   \n",
              "2444899               331          Pike St & Monroe St   \n",
              "\n",
              "         start station latitude  start station longitude  end station id  \\\n",
              "0                     40.730563               -73.973984             504   \n",
              "1                     40.682915               -73.993182             270   \n",
              "2                     40.784727               -73.969617             423   \n",
              "3                     40.788130               -73.952060            3160   \n",
              "4                     40.746201               -73.988557             478   \n",
              "...                         ...                      ...             ...   \n",
              "2444895               40.793770               -73.971888            3161   \n",
              "2444896               40.709560               -74.006536             327   \n",
              "2444897               40.727064               -73.996621             393   \n",
              "2444898               40.724308               -74.004730            3435   \n",
              "2444899               40.711731               -73.991930            2012   \n",
              "\n",
              "                    end station name  end station latitude  \\\n",
              "0                    1 Ave & E 16 St             40.732219   \n",
              "1            Adelphi St & Myrtle Ave             40.693083   \n",
              "2                    W 54 St & 9 Ave             40.765849   \n",
              "3        Central Park West & W 76 St             40.778968   \n",
              "4                   11 Ave & W 41 St             40.760301   \n",
              "...                              ...                   ...   \n",
              "2444895       W 76 St & Columbus Ave             40.780184   \n",
              "2444896     Vesey Pl & River Terrace             40.715338   \n",
              "2444897            E 5 St & Avenue C             40.722992   \n",
              "2444898      Grand St & Elizabeth St             40.718822   \n",
              "2444899              E 27 St & 1 Ave             40.739445   \n",
              "\n",
              "         end station longitude  birth year  age  \n",
              "0                   -73.981656        1968   51  \n",
              "1                   -73.971789        1969   50  \n",
              "2                   -73.986905        1969   50  \n",
              "3                   -73.973747        1990   29  \n",
              "4                   -73.998842        1992   27  \n",
              "...                        ...         ...  ...  \n",
              "2444895             -73.977285        1995   24  \n",
              "2444896             -74.016584        1959   60  \n",
              "2444897             -73.979955        1998   21  \n",
              "2444898             -73.995960        1989   30  \n",
              "2444899             -73.976806        1969   50  \n",
              "\n",
              "[2390193 rows x 13 columns]"
            ]
          },
          "execution_count": 15,
          "metadata": {},
          "output_type": "execute_result"
        }
      ],
      "source": [
        "Bike_true = Bike_true.dropna()\n",
        "Bike_true"
      ]
    },
    {
      "cell_type": "markdown",
      "metadata": {
        "id": "pnQxIvhr2uGL"
      },
      "source": [
        "**5. Identify and Remove Outliers**"
      ]
    },
    {
      "cell_type": "code",
      "execution_count": null,
      "metadata": {
        "colab": {
          "base_uri": "https://localhost:8080/",
          "height": 105
        },
        "id": "ZqZz5ZIR2uGL",
        "outputId": "d88b5f37-356d-4e2a-fd7e-d0ec14a26a2b"
      },
      "outputs": [
        {
          "data": {
            "text/plain": [
              "<seaborn.axisgrid.FacetGrid at 0x7f0fbc5c7010>"
            ]
          },
          "execution_count": 16,
          "metadata": {},
          "output_type": "execute_result"
        },
        {
          "data": {
            "image/png": "[encoded data removed]",
            "text/plain": [
              "<Figure size 500x500 with 1 Axes>"
            ]
          },
          "metadata": {},
          "output_type": "display_data"
        }
      ],
      "source": [
        "sns.displot(Bike_true, x=\"age\", discrete = True)"
      ]
    },
    {
      "cell_type": "code",
      "execution_count": null,
      "metadata": {
        "colab": {
          "base_uri": "https://localhost:8080/"
        },
        "id": "DbFLRckj2uGL",
        "outputId": "e91057d0-f66d-4aff-e83b-6d23da201c0d"
      },
      "outputs": [
        {
          "data": {
            "text/plain": [
              "(2387542, 13)"
            ]
          },
          "execution_count": 17,
          "metadata": {},
          "output_type": "execute_result"
        }
      ],
      "source": [
        "Bike_true = Bike_true.loc[(Bike_true['age'] <= 80)]\n",
        "Bike_true.shape"
      ]
    },
    {
      "cell_type": "code",
      "execution_count": null,
      "metadata": {
        "colab": {
          "base_uri": "https://localhost:8080/",
          "height": 105
        },
        "id": "PBT5almH2uGL",
        "outputId": "34be9cf0-ebe0-4304-9de0-b0be5763e071"
      },
      "outputs": [
        {
          "data": {
            "text/plain": [
              "<seaborn.axisgrid.FacetGrid at 0x7f0fbc5c6dd0>"
            ]
          },
          "execution_count": 18,
          "metadata": {},
          "output_type": "execute_result"
        },
        {
          "data": {
            "image/png": "[encoded data removed]",
            "text/plain": [
              "<Figure size 500x500 with 1 Axes>"
            ]
          },
          "metadata": {},
          "output_type": "display_data"
        }
      ],
      "source": [
        "sns.displot(Bike_true, x=\"age\", discrete = True)"
      ]
    },
    {
      "cell_type": "code",
      "execution_count": null,
      "metadata": {
        "colab": {
          "base_uri": "https://localhost:8080/"
        },
        "id": "iMqokGVO2uGM",
        "outputId": "56dce377-a92b-493c-a618-0d5f17aae2cb"
      },
      "outputs": [
        {
          "data": {
            "text/plain": [
              "(2175856, 13)"
            ]
          },
          "execution_count": 19,
          "metadata": {},
          "output_type": "execute_result"
        }
      ],
      "source": [
        "Bike_true = Bike_true.loc[(Bike_true['age'] != 50)]\n",
        "Bike_true.shape"
      ]
    },
    {
      "cell_type": "code",
      "execution_count": null,
      "metadata": {
        "colab": {
          "base_uri": "https://localhost:8080/",
          "height": 105
        },
        "id": "HBdz7MJI2uGM",
        "outputId": "9868ee3a-451b-4047-bd1b-a16f2a20101b"
      },
      "outputs": [
        {
          "data": {
            "text/plain": [
              "<seaborn.axisgrid.FacetGrid at 0x7f0fbbcd3dc0>"
            ]
          },
          "execution_count": 20,
          "metadata": {},
          "output_type": "execute_result"
        },
        {
          "data": {
            "image/png": "[encoded data removed]",
            "text/plain": [
              "<Figure size 500x500 with 1 Axes>"
            ]
          },
          "metadata": {},
          "output_type": "display_data"
        }
      ],
      "source": [
        "sns.displot(Bike_true, x=\"age\", discrete = True)"
      ]
    },
    {
      "cell_type": "code",
      "execution_count": null,
      "metadata": {
        "colab": {
          "base_uri": "https://localhost:8080/",
          "height": 455
        },
        "id": "yrwW_LlzzHpk",
        "outputId": "92a34c93-b151-47ce-cbca-84e789843010"
      },
      "outputs": [
        {
          "data": {
            "text/html": [
              "\n",
              "  <div id=\"df-45907deb-35dc-4bf8-b66e-eef8aa36ac69\">\n",
              "    <div class=\"colab-df-container\">\n",
              "      <div>\n",
              "<style scoped>\n",
              "    .dataframe tbody tr th:only-of-type {\n",
              "        vertical-align: middle;\n",
              "    }\n",
              "\n",
              "    .dataframe tbody tr th {\n",
              "        vertical-align: top;\n",
              "    }\n",
              "\n",
              "    .dataframe thead th {\n",
              "        text-align: right;\n",
              "    }\n",
              "</style>\n",
              "<table border=\"1\" class=\"dataframe\">\n",
              "  <thead>\n",
              "    <tr style=\"text-align: right;\">\n",
              "      <th></th>\n",
              "      <th>tripduration</th>\n",
              "      <th>starttime</th>\n",
              "      <th>stoptime</th>\n",
              "      <th>start station id</th>\n",
              "      <th>start station name</th>\n",
              "      <th>start station latitude</th>\n",
              "      <th>start station longitude</th>\n",
              "      <th>end station id</th>\n",
              "      <th>end station name</th>\n",
              "      <th>end station latitude</th>\n",
              "      <th>end station longitude</th>\n",
              "      <th>birth year</th>\n",
              "      <th>age</th>\n",
              "      <th>age_groups</th>\n",
              "    </tr>\n",
              "  </thead>\n",
              "  <tbody>\n",
              "    <tr>\n",
              "      <th>0</th>\n",
              "      <td>327</td>\n",
              "      <td>2019-09-01 00:00:01.9580</td>\n",
              "      <td>2019-09-01 00:05:29.3410</td>\n",
              "      <td>3733</td>\n",
              "      <td>Avenue C &amp; E 18 St</td>\n",
              "      <td>40.730563</td>\n",
              "      <td>-73.973984</td>\n",
              "      <td>504</td>\n",
              "      <td>1 Ave &amp; E 16 St</td>\n",
              "      <td>40.732219</td>\n",
              "      <td>-73.981656</td>\n",
              "      <td>1968</td>\n",
              "      <td>51</td>\n",
              "      <td>Senior</td>\n",
              "    </tr>\n",
              "    <tr>\n",
              "      <th>3</th>\n",
              "      <td>1753</td>\n",
              "      <td>2019-09-01 00:00:08.0640</td>\n",
              "      <td>2019-09-01 00:29:21.5040</td>\n",
              "      <td>3299</td>\n",
              "      <td>E 98 St &amp; Park Ave</td>\n",
              "      <td>40.788130</td>\n",
              "      <td>-73.952060</td>\n",
              "      <td>3160</td>\n",
              "      <td>Central Park West &amp; W 76 St</td>\n",
              "      <td>40.778968</td>\n",
              "      <td>-73.973747</td>\n",
              "      <td>1990</td>\n",
              "      <td>29</td>\n",
              "      <td>Middle Age</td>\n",
              "    </tr>\n",
              "    <tr>\n",
              "      <th>4</th>\n",
              "      <td>613</td>\n",
              "      <td>2019-09-01 00:00:12.8510</td>\n",
              "      <td>2019-09-01 00:10:26.1850</td>\n",
              "      <td>486</td>\n",
              "      <td>Broadway &amp; W 29 St</td>\n",
              "      <td>40.746201</td>\n",
              "      <td>-73.988557</td>\n",
              "      <td>478</td>\n",
              "      <td>11 Ave &amp; W 41 St</td>\n",
              "      <td>40.760301</td>\n",
              "      <td>-73.998842</td>\n",
              "      <td>1992</td>\n",
              "      <td>27</td>\n",
              "      <td>Middle Age</td>\n",
              "    </tr>\n",
              "    <tr>\n",
              "      <th>8</th>\n",
              "      <td>571</td>\n",
              "      <td>2019-09-01 00:00:20.1620</td>\n",
              "      <td>2019-09-01 00:09:51.2430</td>\n",
              "      <td>440</td>\n",
              "      <td>E 45 St &amp; 3 Ave</td>\n",
              "      <td>40.752554</td>\n",
              "      <td>-73.972826</td>\n",
              "      <td>505</td>\n",
              "      <td>6 Ave &amp; W 33 St</td>\n",
              "      <td>40.749013</td>\n",
              "      <td>-73.988484</td>\n",
              "      <td>1995</td>\n",
              "      <td>24</td>\n",
              "      <td>Young</td>\n",
              "    </tr>\n",
              "    <tr>\n",
              "      <th>10</th>\n",
              "      <td>2000</td>\n",
              "      <td>2019-09-01 00:00:28.5160</td>\n",
              "      <td>2019-09-01 00:33:49.4820</td>\n",
              "      <td>3295</td>\n",
              "      <td>Central Park W &amp; W 96 St</td>\n",
              "      <td>40.791270</td>\n",
              "      <td>-73.964839</td>\n",
              "      <td>492</td>\n",
              "      <td>W 33 St &amp; 7 Ave</td>\n",
              "      <td>40.750200</td>\n",
              "      <td>-73.990931</td>\n",
              "      <td>1996</td>\n",
              "      <td>23</td>\n",
              "      <td>Young</td>\n",
              "    </tr>\n",
              "  </tbody>\n",
              "</table>\n",
              "</div>\n",
              "      <button class=\"colab-df-convert\" onclick=\"convertToInteractive('df-45907deb-35dc-4bf8-b66e-eef8aa36ac69')\"\n",
              "              title=\"Convert this dataframe to an interactive table.\"\n",
              "              style=\"display:none;\">\n",
              "        \n",
              "  <svg xmlns=\"http://www.w3.org/2000/svg\" height=\"24px\"viewBox=\"0 0 24 24\"\n",
              "       width=\"24px\">\n",
              "    <path d=\"M0 0h24v24H0V0z\" fill=\"none\"/>\n",
              "    <path d=\"M18.56 5.44l.94 2.06.94-2.06 2.06-.94-2.06-.94-.94-2.06-.94 2.06-2.06.94zm-11 1L8.5 8.5l.94-2.06 2.06-.94-2.06-.94L8.5 2.5l-.94 2.06-2.06.94zm10 10l.94 2.06.94-2.06 2.06-.94-2.06-.94-.94-2.06-.94 2.06-2.06.94z\"/><path d=\"M17.41 7.96l-1.37-1.37c-.4-.4-.92-.59-1.43-.59-.52 0-1.04.2-1.43.59L10.3 9.45l-7.72 7.72c-.78.78-.78 2.05 0 2.83L4 21.41c.39.39.9.59 1.41.59.51 0 1.02-.2 1.41-.59l7.78-7.78 2.81-2.81c.8-.78.8-2.07 0-2.86zM5.41 20L4 18.59l7.72-7.72 1.47 1.35L5.41 20z\"/>\n",
              "  </svg>\n",
              "      </button>\n",
              "      \n",
              "  <style>\n",
              "    .colab-df-container {\n",
              "      display:flex;\n",
              "      flex-wrap:wrap;\n",
              "      gap: 12px;\n",
              "    }\n",
              "\n",
              "    .colab-df-convert {\n",
              "      background-color: #E8F0FE;\n",
              "      border: none;\n",
              "      border-radius: 50%;\n",
              "      cursor: pointer;\n",
              "      display: none;\n",
              "      fill: #1967D2;\n",
              "      height: 32px;\n",
              "      padding: 0 0 0 0;\n",
              "      width: 32px;\n",
              "    }\n",
              "\n",
              "    .colab-df-convert:hover {\n",
              "      background-color: #E2EBFA;\n",
              "      box-shadow: 0px 1px 2px rgba(60, 64, 67, 0.3), 0px 1px 3px 1px rgba(60, 64, 67, 0.15);\n",
              "      fill: #174EA6;\n",
              "    }\n",
              "\n",
              "    [theme=dark] .colab-df-convert {\n",
              "      background-color: #3B4455;\n",
              "      fill: #D2E3FC;\n",
              "    }\n",
              "\n",
              "    [theme=dark] .colab-df-convert:hover {\n",
              "      background-color: #434B5C;\n",
              "      box-shadow: 0px 1px 3px 1px rgba(0, 0, 0, 0.15);\n",
              "      filter: drop-shadow(0px 1px 2px rgba(0, 0, 0, 0.3));\n",
              "      fill: #FFFFFF;\n",
              "    }\n",
              "  </style>\n",
              "\n",
              "      <script>\n",
              "        const buttonEl =\n",
              "          document.querySelector('#df-45907deb-35dc-4bf8-b66e-eef8aa36ac69 button.colab-df-convert');\n",
              "        buttonEl.style.display =\n",
              "          google.colab.kernel.accessAllowed ? 'block' : 'none';\n",
              "\n",
              "        async function convertToInteractive(key) {\n",
              "          const element = document.querySelector('#df-45907deb-35dc-4bf8-b66e-eef8aa36ac69');\n",
              "          const dataTable =\n",
              "            await google.colab.kernel.invokeFunction('convertToInteractive',\n",
              "                                                     [key], {});\n",
              "          if (!dataTable) return;\n",
              "\n",
              "          const docLinkHtml = 'Like what you see? Visit the ' +\n",
              "            '<a target=\"_blank\" href=https://colab.research.google.com/notebooks/data_table.ipynb>data table notebook</a>'\n",
              "            + ' to learn more about interactive tables.';\n",
              "          element.innerHTML = '';\n",
              "          dataTable['output_type'] = 'display_data';\n",
              "          await google.colab.output.renderOutput(dataTable, element);\n",
              "          const docLink = document.createElement('div');\n",
              "          docLink.innerHTML = docLinkHtml;\n",
              "          element.appendChild(docLink);\n",
              "        }\n",
              "      </script>\n",
              "    </div>\n",
              "  </div>\n",
              "  "
            ],
            "text/plain": [
              "    tripduration                 starttime                  stoptime  \\\n",
              "0            327  2019-09-01 00:00:01.9580  2019-09-01 00:05:29.3410   \n",
              "3           1753  2019-09-01 00:00:08.0640  2019-09-01 00:29:21.5040   \n",
              "4            613  2019-09-01 00:00:12.8510  2019-09-01 00:10:26.1850   \n",
              "8            571  2019-09-01 00:00:20.1620  2019-09-01 00:09:51.2430   \n",
              "10          2000  2019-09-01 00:00:28.5160  2019-09-01 00:33:49.4820   \n",
              "\n",
              "    start station id        start station name  start station latitude  \\\n",
              "0               3733        Avenue C & E 18 St               40.730563   \n",
              "3               3299        E 98 St & Park Ave               40.788130   \n",
              "4                486        Broadway & W 29 St               40.746201   \n",
              "8                440           E 45 St & 3 Ave               40.752554   \n",
              "10              3295  Central Park W & W 96 St               40.791270   \n",
              "\n",
              "    start station longitude  end station id             end station name  \\\n",
              "0                -73.973984             504              1 Ave & E 16 St   \n",
              "3                -73.952060            3160  Central Park West & W 76 St   \n",
              "4                -73.988557             478             11 Ave & W 41 St   \n",
              "8                -73.972826             505              6 Ave & W 33 St   \n",
              "10               -73.964839             492              W 33 St & 7 Ave   \n",
              "\n",
              "    end station latitude  end station longitude  birth year  age  age_groups  \n",
              "0              40.732219             -73.981656        1968   51      Senior  \n",
              "3              40.778968             -73.973747        1990   29  Middle Age  \n",
              "4              40.760301             -73.998842        1992   27  Middle Age  \n",
              "8              40.749013             -73.988484        1995   24       Young  \n",
              "10             40.750200             -73.990931        1996   23       Young  "
            ]
          },
          "execution_count": 21,
          "metadata": {},
          "output_type": "execute_result"
        }
      ],
      "source": [
        "Bike_true.loc[Bike_true['age'] <= 24, 'age_groups'] = 'Young'\n",
        "\n",
        "Bike_true.loc[(Bike_true['age'] > 24) & (Bike_true['age'] < 50), 'age_groups'] = 'Middle Age'\n",
        "\n",
        "Bike_true.loc[Bike_true['age'] >= 50, 'age_groups'] = 'Senior'\n",
        "\n",
        "Bike_true.head(5)"
      ]
    },
    {
      "cell_type": "markdown",
      "metadata": {
        "id": "ng31N3eMzHpk"
      },
      "source": [
        "**6. Identify and Remove Outliers -- Tripduration**"
      ]
    },
    {
      "cell_type": "code",
      "execution_count": null,
      "metadata": {
        "colab": {
          "base_uri": "https://localhost:8080/",
          "height": 105
        },
        "id": "9eqPhYI4zHpk",
        "outputId": "7d946de5-116a-4f18-d607-a76983f8459a"
      },
      "outputs": [
        {
          "data": {
            "text/plain": [
              "<Axes: xlabel='tripduration', ylabel='age_groups'>"
            ]
          },
          "execution_count": 22,
          "metadata": {},
          "output_type": "execute_result"
        },
        {
          "data": {
            "image/png": "[encoded data removed]",
            "text/plain": [
              "<Figure size 640x480 with 1 Axes>"
            ]
          },
          "metadata": {},
          "output_type": "display_data"
        }
      ],
      "source": [
        "sns.boxplot(x = Bike_true[\"tripduration\"], y = Bike_true[\"age_groups\"])"
      ]
    },
    {
      "cell_type": "code",
      "execution_count": null,
      "metadata": {
        "colab": {
          "base_uri": "https://localhost:8080/"
        },
        "id": "LTY82lO0zHpk",
        "outputId": "6fb45b5f-f319-4fec-8bbb-42a1c248dac2"
      },
      "outputs": [
        {
          "data": {
            "text/plain": [
              "(2175856, 2085735)"
            ]
          },
          "execution_count": 23,
          "metadata": {},
          "output_type": "execute_result"
        }
      ],
      "source": [
        "def duration_outliers(group):\n",
        "    Q1 = group['tripduration'].quantile(0.25)\n",
        "    Q3 = group['tripduration'].quantile(0.75)\n",
        "    IQR = Q3 - Q1\n",
        "\n",
        "    upper = Q3 + 1.5 * IQR\n",
        "    lower = Q1 - 1.5 * IQR\n",
        "\n",
        "    return group[(group['tripduration'] > lower) & (group['tripduration'] < upper)]\n",
        "\n",
        "Bike_trip = Bike_true.groupby('age_groups').apply(duration_outliers)\n",
        "\n",
        "(len(Bike_true), len(Bike_trip))"
      ]
    },
    {
      "cell_type": "code",
      "execution_count": null,
      "metadata": {
        "colab": {
          "base_uri": "https://localhost:8080/",
          "height": 105
        },
        "id": "xK_dr6uDzHpl",
        "outputId": "23b7c49c-fb06-4e84-c41c-b3e00eeee87c"
      },
      "outputs": [
        {
          "data": {
            "text/plain": [
              "<Axes: xlabel='tripduration', ylabel='age_groups'>"
            ]
          },
          "execution_count": 24,
          "metadata": {},
          "output_type": "execute_result"
        },
        {
          "data": {
            "image/png": "[encoded data removed]",
            "text/plain": [
              "<Figure size 640x480 with 1 Axes>"
            ]
          },
          "metadata": {},
          "output_type": "display_data"
        }
      ],
      "source": [
        "sns.boxplot(x = Bike_trip[\"tripduration\"], y = Bike_trip[\"age_groups\"])"
      ]
    },
    {
      "cell_type": "code",
      "execution_count": null,
      "metadata": {
        "colab": {
          "base_uri": "https://localhost:8080/",
          "height": 105
        },
        "id": "MUtwRLCyzHpl",
        "outputId": "752af50a-c822-42e3-d619-79d5b670886b"
      },
      "outputs": [
        {
          "data": {
            "text/plain": [
              "<Axes: xlabel='tripduration', ylabel='age_groups'>"
            ]
          },
          "execution_count": 25,
          "metadata": {},
          "output_type": "execute_result"
        },
        {
          "data": {
            "image/png": "[encoded data removed]",
            "text/plain": [
              "<Figure size 640x480 with 1 Axes>"
            ]
          },
          "metadata": {},
          "output_type": "display_data"
        }
      ],
      "source": [
        "sns.violinplot(x = Bike_trip[\"tripduration\"], y = Bike_trip[\"age_groups\"])"
      ]
    },
    {
      "cell_type": "markdown",
      "metadata": {
        "id": "C2n9t4nezHpl"
      },
      "source": [
        "**6. Identify and Remove Outliers -- Geographic**"
      ]
    },
    {
      "cell_type": "markdown",
      "metadata": {
        "id": "4F78lFovzHpl"
      },
      "source": [
        "Remove those points that lies in Jersy City"
      ]
    },
    {
      "cell_type": "code",
      "execution_count": null,
      "metadata": {
        "id": "WKcCtk96zHpm"
      },
      "outputs": [],
      "source": [
        "Bike_geo = Bike_trip\n",
        "\n",
        "Bike_geo = gpd.GeoDataFrame(data=Bike_geo, geometry=gpd.points_from_xy(Bike_trip['start station longitude'], Bike_trip['start station latitude']), crs=4326)\n",
        "Bike_geo = Bike_geo.rename_geometry(\"start_geom\")\n",
        "\n",
        "Bike_geo['end_geom'] = gpd.points_from_xy(Bike_trip['end station longitude'], Bike_trip['end station latitude'], crs=4326)"
      ]
    },
    {
      "cell_type": "code",
      "execution_count": null,
      "metadata": {
        "colab": {
          "base_uri": "https://localhost:8080/",
          "height": 54
        },
        "id": "hqQQhAq3zHpm",
        "outputId": "2250640a-d5dc-481d-ff30-b38d6e313632"
      },
      "outputs": [
        {
          "data": {
            "image/png": "[encoded data removed]",
            "text/plain": [
              "<Figure size 640x480 with 1 Axes>"
            ]
          },
          "metadata": {},
          "output_type": "display_data"
        }
      ],
      "source": [
        "unique_start = Bike_geo['start_geom'].unique()\n",
        "start_gdf = gpd.GeoDataFrame(geometry=unique_start)\n",
        "\n",
        "start_gdf.plot(marker='o', color='red', markersize=3)\n",
        "\n",
        "plt.ylim(40.64, 40.82)\n",
        "plt.xlim(-74.1, -73.8)\n",
        "\n",
        "plt.show()"
      ]
    },
    {
      "cell_type": "code",
      "execution_count": null,
      "metadata": {
        "colab": {
          "base_uri": "https://localhost:8080/",
          "height": 54
        },
        "id": "8EORvQFrzHpm",
        "outputId": "dc288347-689d-4b39-d067-fcb3f8537fe5"
      },
      "outputs": [
        {
          "data": {
            "image/png": "[encoded data removed]",
            "text/plain": [
              "<Figure size 640x480 with 1 Axes>"
            ]
          },
          "metadata": {},
          "output_type": "display_data"
        }
      ],
      "source": [
        "unique_end = Bike_geo['end_geom'].unique()\n",
        "end_gdf = gpd.GeoDataFrame(geometry=unique_end)\n",
        "\n",
        "end_gdf.plot(marker='o', color='blue', markersize=3)\n",
        "\n",
        "plt.ylim(40.64, 40.82)\n",
        "plt.xlim(-74.1, -73.8)\n",
        "\n",
        "plt.show()"
      ]
    },
    {
      "cell_type": "code",
      "execution_count": null,
      "metadata": {
        "colab": {
          "base_uri": "https://localhost:8080/"
        },
        "id": "nx48KbZjzHpm",
        "outputId": "5d30cd74-32f8-4a36-e134-43c67eb3863e"
      },
      "outputs": [
        {
          "data": {
            "text/plain": [
              "5"
            ]
          },
          "execution_count": 29,
          "metadata": {},
          "output_type": "execute_result"
        }
      ],
      "source": [
        "geo_outliers = Bike_geo.loc[Bike_geo['end station longitude'] < -74.02].loc[Bike_geo['end station latitude'] > 40.7]\n",
        "geo_outliers_geom = geo_outliers['end_geom']\n",
        "\n",
        "len(geo_outliers_geom)"
      ]
    },
    {
      "cell_type": "code",
      "execution_count": null,
      "metadata": {
        "colab": {
          "base_uri": "https://localhost:8080/",
          "height": 54
        },
        "id": "5bWNU_9ZzHpm",
        "outputId": "8527d261-6d7f-4f00-c059-09c600dd1968"
      },
      "outputs": [
        {
          "data": {
            "image/png": "[encoded data removed]",
            "text/plain": [
              "<Figure size 640x480 with 1 Axes>"
            ]
          },
          "metadata": {},
          "output_type": "display_data"
        }
      ],
      "source": [
        "fig, ax = plt.subplots()\n",
        "\n",
        "end_gdf.plot(ax = ax, marker='o', color='blue', markersize=3, zorder = 0)\n",
        "geo_outliers_geom.plot(ax = ax, marker='o', color='red', markersize=5, zorder = 1)\n",
        "\n",
        "plt.ylim(40.64, 40.82)\n",
        "plt.xlim(-74.1, -73.8)\n",
        "\n",
        "plt.show()"
      ]
    },
    {
      "cell_type": "code",
      "execution_count": null,
      "metadata": {
        "colab": {
          "base_uri": "https://localhost:8080/"
        },
        "id": "FOFvChptzHpm",
        "outputId": "7cd095af-84f5-4e6f-9787-7485065f84f3"
      },
      "outputs": [
        {
          "data": {
            "text/plain": [
              "(2085730, 2085735)"
            ]
          },
          "execution_count": 31,
          "metadata": {},
          "output_type": "execute_result"
        }
      ],
      "source": [
        "Bike_geo_removed = Bike_trip.loc[~Bike_trip['end station id'].isin(geo_outliers['end station id'])]\n",
        "\n",
        "(len(Bike_geo_removed), len(Bike_geo))"
      ]
    },
    {
      "cell_type": "markdown",
      "metadata": {
        "id": "1-Vi9mdlzHpn"
      },
      "source": [
        "**7. Export csv files for age group**"
      ]
    },
    {
      "cell_type": "code",
      "execution_count": null,
      "metadata": {
        "id": "6d-k5J2bzHpn"
      },
      "outputs": [],
      "source": [
        "Young = Bike_geo_removed.loc[(Bike_geo_removed['age_groups'] == 'Young')].reset_index(drop = True)\n",
        "Middle_age = Bike_geo_removed.loc[(Bike_geo_removed['age_groups'] == 'Middle Age')].reset_index(drop = True)\n",
        "Senior = Bike_geo_removed.loc[(Bike_geo_removed['age_groups'] == 'Senior')].reset_index(drop = True)"
      ]
    },
    {
      "cell_type": "code",
      "execution_count": null,
      "metadata": {
        "colab": {
          "background_save": true
        },
        "id": "LX_aQ6FSzHpn"
      },
      "outputs": [],
      "source": [
        "Young.to_csv('/content/Young.csv')\n",
        "Middle_age.to_csv('/content/Middle_age.csv')\n",
        "Senior.to_csv('/content/Senior.csv')\n",
        "Bike_geo_removed.to_csv('/content/All_ages.csv')"
      ]
    },
    {
      "cell_type": "code",
      "execution_count": null,
      "metadata": {
        "colab": {
          "background_save": true
        },
        "id": "rBCp7QPKzSku"
      },
      "outputs": [],
      "source": [
        "Bike_true = Bike_geo_removed"
      ]
    },
    {
      "cell_type": "markdown",
      "metadata": {
        "id": "f-jajLeF2uGM"
      },
      "source": [
        "**8. Import New datasets and create dataframe**"
      ]
    },
    {
      "cell_type": "code",
      "execution_count": null,
      "metadata": {
        "colab": {
          "background_save": true
        },
        "id": "0O4ZCNo3KFG-"
      },
      "outputs": [],
      "source": [
        "file_path1 = [r'/content/Middle_age.csv']\n",
        "\n",
        "dfs = []\n",
        "\n",
        "for file_path1 in file_path1:\n",
        "    df = pd.read_csv(file_path1)\n",
        "    dfs.append(df)\n",
        "\n",
        "Middle_age = pd.concat(dfs, ignore_index=True)"
      ]
    },
    {
      "cell_type": "code",
      "execution_count": null,
      "metadata": {
        "colab": {
          "background_save": true
        },
        "id": "aNDyZeRZBCEU",
        "outputId": "2520c35f-bcbe-4a2a-e20b-03d1612bd61e"
      },
      "outputs": [
        {
          "data": {
            "text/html": [
              "\n",
              "  <div id=\"df-1f2bb4bd-e1c2-46d8-abe3-aaade7d444f0\">\n",
              "    <div class=\"colab-df-container\">\n",
              "      <div>\n",
              "<style scoped>\n",
              "    .dataframe tbody tr th:only-of-type {\n",
              "        vertical-align: middle;\n",
              "    }\n",
              "\n",
              "    .dataframe tbody tr th {\n",
              "        vertical-align: top;\n",
              "    }\n",
              "\n",
              "    .dataframe thead th {\n",
              "        text-align: right;\n",
              "    }\n",
              "</style>\n",
              "<table border=\"1\" class=\"dataframe\">\n",
              "  <thead>\n",
              "    <tr style=\"text-align: right;\">\n",
              "      <th></th>\n",
              "      <th>Unnamed: 0</th>\n",
              "      <th>tripduration</th>\n",
              "      <th>starttime</th>\n",
              "      <th>stoptime</th>\n",
              "      <th>start station id</th>\n",
              "      <th>start station name</th>\n",
              "      <th>start station latitude</th>\n",
              "      <th>start station longitude</th>\n",
              "      <th>end station id</th>\n",
              "      <th>end station name</th>\n",
              "      <th>end station latitude</th>\n",
              "      <th>end station longitude</th>\n",
              "      <th>birth year</th>\n",
              "      <th>age</th>\n",
              "      <th>age_groups</th>\n",
              "    </tr>\n",
              "  </thead>\n",
              "  <tbody>\n",
              "    <tr>\n",
              "      <th>0</th>\n",
              "      <td>0</td>\n",
              "      <td>1753</td>\n",
              "      <td>2019-09-01 00:00:08.0640</td>\n",
              "      <td>2019-09-01 00:29:21.5040</td>\n",
              "      <td>3299</td>\n",
              "      <td>E 98 St &amp; Park Ave</td>\n",
              "      <td>40.788130</td>\n",
              "      <td>-73.952060</td>\n",
              "      <td>3160</td>\n",
              "      <td>Central Park West &amp; W 76 St</td>\n",
              "      <td>40.778968</td>\n",
              "      <td>-73.973747</td>\n",
              "      <td>1990</td>\n",
              "      <td>29</td>\n",
              "      <td>Middle Age</td>\n",
              "    </tr>\n",
              "    <tr>\n",
              "      <th>1</th>\n",
              "      <td>1</td>\n",
              "      <td>613</td>\n",
              "      <td>2019-09-01 00:00:12.8510</td>\n",
              "      <td>2019-09-01 00:10:26.1850</td>\n",
              "      <td>486</td>\n",
              "      <td>Broadway &amp; W 29 St</td>\n",
              "      <td>40.746201</td>\n",
              "      <td>-73.988557</td>\n",
              "      <td>478</td>\n",
              "      <td>11 Ave &amp; W 41 St</td>\n",
              "      <td>40.760301</td>\n",
              "      <td>-73.998842</td>\n",
              "      <td>1992</td>\n",
              "      <td>27</td>\n",
              "      <td>Middle Age</td>\n",
              "    </tr>\n",
              "    <tr>\n",
              "      <th>2</th>\n",
              "      <td>2</td>\n",
              "      <td>831</td>\n",
              "      <td>2019-09-01 00:00:32.4180</td>\n",
              "      <td>2019-09-01 00:14:24.3550</td>\n",
              "      <td>435</td>\n",
              "      <td>W 21 St &amp; 6 Ave</td>\n",
              "      <td>40.741740</td>\n",
              "      <td>-73.994156</td>\n",
              "      <td>173</td>\n",
              "      <td>Broadway &amp; W 49 St</td>\n",
              "      <td>40.760683</td>\n",
              "      <td>-73.984527</td>\n",
              "      <td>1986</td>\n",
              "      <td>33</td>\n",
              "      <td>Middle Age</td>\n",
              "    </tr>\n",
              "    <tr>\n",
              "      <th>3</th>\n",
              "      <td>3</td>\n",
              "      <td>168</td>\n",
              "      <td>2019-09-01 00:00:33.0870</td>\n",
              "      <td>2019-09-01 00:03:21.5970</td>\n",
              "      <td>3526</td>\n",
              "      <td>31 St &amp; 23 Ave</td>\n",
              "      <td>40.774788</td>\n",
              "      <td>-73.912555</td>\n",
              "      <td>3517</td>\n",
              "      <td>31 St &amp; Hoyt Ave N</td>\n",
              "      <td>40.771153</td>\n",
              "      <td>-73.917007</td>\n",
              "      <td>1985</td>\n",
              "      <td>34</td>\n",
              "      <td>Middle Age</td>\n",
              "    </tr>\n",
              "    <tr>\n",
              "      <th>4</th>\n",
              "      <td>4</td>\n",
              "      <td>176</td>\n",
              "      <td>2019-09-01 00:00:33.4550</td>\n",
              "      <td>2019-09-01 00:03:30.3780</td>\n",
              "      <td>3095</td>\n",
              "      <td>Graham Ave &amp; Herbert St</td>\n",
              "      <td>40.719293</td>\n",
              "      <td>-73.945004</td>\n",
              "      <td>3668</td>\n",
              "      <td>Leonard St &amp; Nassau Ave</td>\n",
              "      <td>40.723957</td>\n",
              "      <td>-73.949844</td>\n",
              "      <td>1991</td>\n",
              "      <td>28</td>\n",
              "      <td>Middle Age</td>\n",
              "    </tr>\n",
              "  </tbody>\n",
              "</table>\n",
              "</div>\n",
              "      <button class=\"colab-df-convert\" onclick=\"convertToInteractive('df-1f2bb4bd-e1c2-46d8-abe3-aaade7d444f0')\"\n",
              "              title=\"Convert this dataframe to an interactive table.\"\n",
              "              style=\"display:none;\">\n",
              "        \n",
              "  <svg xmlns=\"http://www.w3.org/2000/svg\" height=\"24px\"viewBox=\"0 0 24 24\"\n",
              "       width=\"24px\">\n",
              "    <path d=\"M0 0h24v24H0V0z\" fill=\"none\"/>\n",
              "    <path d=\"M18.56 5.44l.94 2.06.94-2.06 2.06-.94-2.06-.94-.94-2.06-.94 2.06-2.06.94zm-11 1L8.5 8.5l.94-2.06 2.06-.94-2.06-.94L8.5 2.5l-.94 2.06-2.06.94zm10 10l.94 2.06.94-2.06 2.06-.94-2.06-.94-.94-2.06-.94 2.06-2.06.94z\"/><path d=\"M17.41 7.96l-1.37-1.37c-.4-.4-.92-.59-1.43-.59-.52 0-1.04.2-1.43.59L10.3 9.45l-7.72 7.72c-.78.78-.78 2.05 0 2.83L4 21.41c.39.39.9.59 1.41.59.51 0 1.02-.2 1.41-.59l7.78-7.78 2.81-2.81c.8-.78.8-2.07 0-2.86zM5.41 20L4 18.59l7.72-7.72 1.47 1.35L5.41 20z\"/>\n",
              "  </svg>\n",
              "      </button>\n",
              "      \n",
              "  <style>\n",
              "    .colab-df-container {\n",
              "      display:flex;\n",
              "      flex-wrap:wrap;\n",
              "      gap: 12px;\n",
              "    }\n",
              "\n",
              "    .colab-df-convert {\n",
              "      background-color: #E8F0FE;\n",
              "      border: none;\n",
              "      border-radius: 50%;\n",
              "      cursor: pointer;\n",
              "      display: none;\n",
              "      fill: #1967D2;\n",
              "      height: 32px;\n",
              "      padding: 0 0 0 0;\n",
              "      width: 32px;\n",
              "    }\n",
              "\n",
              "    .colab-df-convert:hover {\n",
              "      background-color: #E2EBFA;\n",
              "      box-shadow: 0px 1px 2px rgba(60, 64, 67, 0.3), 0px 1px 3px 1px rgba(60, 64, 67, 0.15);\n",
              "      fill: #174EA6;\n",
              "    }\n",
              "\n",
              "    [theme=dark] .colab-df-convert {\n",
              "      background-color: #3B4455;\n",
              "      fill: #D2E3FC;\n",
              "    }\n",
              "\n",
              "    [theme=dark] .colab-df-convert:hover {\n",
              "      background-color: #434B5C;\n",
              "      box-shadow: 0px 1px 3px 1px rgba(0, 0, 0, 0.15);\n",
              "      filter: drop-shadow(0px 1px 2px rgba(0, 0, 0, 0.3));\n",
              "      fill: #FFFFFF;\n",
              "    }\n",
              "  </style>\n",
              "\n",
              "      <script>\n",
              "        const buttonEl =\n",
              "          document.querySelector('#df-1f2bb4bd-e1c2-46d8-abe3-aaade7d444f0 button.colab-df-convert');\n",
              "        buttonEl.style.display =\n",
              "          google.colab.kernel.accessAllowed ? 'block' : 'none';\n",
              "\n",
              "        async function convertToInteractive(key) {\n",
              "          const element = document.querySelector('#df-1f2bb4bd-e1c2-46d8-abe3-aaade7d444f0');\n",
              "          const dataTable =\n",
              "            await google.colab.kernel.invokeFunction('convertToInteractive',\n",
              "                                                     [key], {});\n",
              "          if (!dataTable) return;\n",
              "\n",
              "          const docLinkHtml = 'Like what you see? Visit the ' +\n",
              "            '<a target=\"_blank\" href=https://colab.research.google.com/notebooks/data_table.ipynb>data table notebook</a>'\n",
              "            + ' to learn more about interactive tables.';\n",
              "          element.innerHTML = '';\n",
              "          dataTable['output_type'] = 'display_data';\n",
              "          await google.colab.output.renderOutput(dataTable, element);\n",
              "          const docLink = document.createElement('div');\n",
              "          docLink.innerHTML = docLinkHtml;\n",
              "          element.appendChild(docLink);\n",
              "        }\n",
              "      </script>\n",
              "    </div>\n",
              "  </div>\n",
              "  "
            ],
            "text/plain": [
              "   Unnamed: 0  tripduration                 starttime  \\\n",
              "0           0          1753  2019-09-01 00:00:08.0640   \n",
              "1           1           613  2019-09-01 00:00:12.8510   \n",
              "2           2           831  2019-09-01 00:00:32.4180   \n",
              "3           3           168  2019-09-01 00:00:33.0870   \n",
              "4           4           176  2019-09-01 00:00:33.4550   \n",
              "\n",
              "                   stoptime  start station id       start station name  \\\n",
              "0  2019-09-01 00:29:21.5040              3299       E 98 St & Park Ave   \n",
              "1  2019-09-01 00:10:26.1850               486       Broadway & W 29 St   \n",
              "2  2019-09-01 00:14:24.3550               435          W 21 St & 6 Ave   \n",
              "3  2019-09-01 00:03:21.5970              3526           31 St & 23 Ave   \n",
              "4  2019-09-01 00:03:30.3780              3095  Graham Ave & Herbert St   \n",
              "\n",
              "   start station latitude  start station longitude  end station id  \\\n",
              "0               40.788130               -73.952060            3160   \n",
              "1               40.746201               -73.988557             478   \n",
              "2               40.741740               -73.994156             173   \n",
              "3               40.774788               -73.912555            3517   \n",
              "4               40.719293               -73.945004            3668   \n",
              "\n",
              "              end station name  end station latitude  end station longitude  \\\n",
              "0  Central Park West & W 76 St             40.778968             -73.973747   \n",
              "1             11 Ave & W 41 St             40.760301             -73.998842   \n",
              "2           Broadway & W 49 St             40.760683             -73.984527   \n",
              "3           31 St & Hoyt Ave N             40.771153             -73.917007   \n",
              "4      Leonard St & Nassau Ave             40.723957             -73.949844   \n",
              "\n",
              "   birth year  age  age_groups  \n",
              "0        1990   29  Middle Age  \n",
              "1        1992   27  Middle Age  \n",
              "2        1986   33  Middle Age  \n",
              "3        1985   34  Middle Age  \n",
              "4        1991   28  Middle Age  "
            ]
          },
          "execution_count": 36,
          "metadata": {},
          "output_type": "execute_result"
        }
      ],
      "source": [
        "Middle_age.head()"
      ]
    },
    {
      "cell_type": "code",
      "execution_count": null,
      "metadata": {
        "colab": {
          "background_save": true
        },
        "id": "AX8HC-C3BIM3",
        "outputId": "e4441cf6-82f3-4742-d1c3-0086b39f030a"
      },
      "outputs": [
        {
          "data": {
            "text/plain": [
              "(1514594, 15)"
            ]
          },
          "execution_count": 37,
          "metadata": {},
          "output_type": "execute_result"
        }
      ],
      "source": [
        "Middle_age.shape"
      ]
    },
    {
      "cell_type": "code",
      "execution_count": null,
      "metadata": {
        "colab": {
          "background_save": true
        },
        "id": "_chq7KXaLZSP"
      },
      "outputs": [],
      "source": [
        "middle_gdf = gpd.GeoDataFrame(data=Middle_age, geometry=gpd.points_from_xy(Middle_age['start station longitude'], Middle_age['start station latitude']))\n"
      ]
    },
    {
      "cell_type": "code",
      "execution_count": null,
      "metadata": {
        "colab": {
          "background_save": true
        },
        "id": "MmIDT7TUOn-i",
        "outputId": "98c44ee0-9df6-4433-faa1-99f2177c3c7a"
      },
      "outputs": [
        {
          "data": {
            "text/html": [
              "\n",
              "  <div id=\"df-9258ef29-05f2-4f19-8232-5c974033b2b8\">\n",
              "    <div class=\"colab-df-container\">\n",
              "      <div>\n",
              "<style scoped>\n",
              "    .dataframe tbody tr th:only-of-type {\n",
              "        vertical-align: middle;\n",
              "    }\n",
              "\n",
              "    .dataframe tbody tr th {\n",
              "        vertical-align: top;\n",
              "    }\n",
              "\n",
              "    .dataframe thead th {\n",
              "        text-align: right;\n",
              "    }\n",
              "</style>\n",
              "<table border=\"1\" class=\"dataframe\">\n",
              "  <thead>\n",
              "    <tr style=\"text-align: right;\">\n",
              "      <th></th>\n",
              "      <th>Unnamed: 0</th>\n",
              "      <th>tripduration</th>\n",
              "      <th>starttime</th>\n",
              "      <th>stoptime</th>\n",
              "      <th>start station id</th>\n",
              "      <th>start station name</th>\n",
              "      <th>start station latitude</th>\n",
              "      <th>start station longitude</th>\n",
              "      <th>end station id</th>\n",
              "      <th>end station name</th>\n",
              "      <th>end station latitude</th>\n",
              "      <th>end station longitude</th>\n",
              "      <th>birth year</th>\n",
              "      <th>age</th>\n",
              "      <th>age_groups</th>\n",
              "      <th>geometry</th>\n",
              "    </tr>\n",
              "  </thead>\n",
              "  <tbody>\n",
              "    <tr>\n",
              "      <th>0</th>\n",
              "      <td>0</td>\n",
              "      <td>1753</td>\n",
              "      <td>2019-09-01 00:00:08.0640</td>\n",
              "      <td>2019-09-01 00:29:21.5040</td>\n",
              "      <td>3299</td>\n",
              "      <td>E 98 St &amp; Park Ave</td>\n",
              "      <td>40.788130</td>\n",
              "      <td>-73.952060</td>\n",
              "      <td>3160</td>\n",
              "      <td>Central Park West &amp; W 76 St</td>\n",
              "      <td>40.778968</td>\n",
              "      <td>-73.973747</td>\n",
              "      <td>1990</td>\n",
              "      <td>29</td>\n",
              "      <td>Middle Age</td>\n",
              "      <td>POINT (-73.97375 40.77897)</td>\n",
              "    </tr>\n",
              "    <tr>\n",
              "      <th>1</th>\n",
              "      <td>1</td>\n",
              "      <td>613</td>\n",
              "      <td>2019-09-01 00:00:12.8510</td>\n",
              "      <td>2019-09-01 00:10:26.1850</td>\n",
              "      <td>486</td>\n",
              "      <td>Broadway &amp; W 29 St</td>\n",
              "      <td>40.746201</td>\n",
              "      <td>-73.988557</td>\n",
              "      <td>478</td>\n",
              "      <td>11 Ave &amp; W 41 St</td>\n",
              "      <td>40.760301</td>\n",
              "      <td>-73.998842</td>\n",
              "      <td>1992</td>\n",
              "      <td>27</td>\n",
              "      <td>Middle Age</td>\n",
              "      <td>POINT (-73.99884 40.76030)</td>\n",
              "    </tr>\n",
              "    <tr>\n",
              "      <th>2</th>\n",
              "      <td>2</td>\n",
              "      <td>831</td>\n",
              "      <td>2019-09-01 00:00:32.4180</td>\n",
              "      <td>2019-09-01 00:14:24.3550</td>\n",
              "      <td>435</td>\n",
              "      <td>W 21 St &amp; 6 Ave</td>\n",
              "      <td>40.741740</td>\n",
              "      <td>-73.994156</td>\n",
              "      <td>173</td>\n",
              "      <td>Broadway &amp; W 49 St</td>\n",
              "      <td>40.760683</td>\n",
              "      <td>-73.984527</td>\n",
              "      <td>1986</td>\n",
              "      <td>33</td>\n",
              "      <td>Middle Age</td>\n",
              "      <td>POINT (-73.98453 40.76068)</td>\n",
              "    </tr>\n",
              "    <tr>\n",
              "      <th>3</th>\n",
              "      <td>3</td>\n",
              "      <td>168</td>\n",
              "      <td>2019-09-01 00:00:33.0870</td>\n",
              "      <td>2019-09-01 00:03:21.5970</td>\n",
              "      <td>3526</td>\n",
              "      <td>31 St &amp; 23 Ave</td>\n",
              "      <td>40.774788</td>\n",
              "      <td>-73.912555</td>\n",
              "      <td>3517</td>\n",
              "      <td>31 St &amp; Hoyt Ave N</td>\n",
              "      <td>40.771153</td>\n",
              "      <td>-73.917007</td>\n",
              "      <td>1985</td>\n",
              "      <td>34</td>\n",
              "      <td>Middle Age</td>\n",
              "      <td>POINT (-73.91701 40.77115)</td>\n",
              "    </tr>\n",
              "    <tr>\n",
              "      <th>4</th>\n",
              "      <td>4</td>\n",
              "      <td>176</td>\n",
              "      <td>2019-09-01 00:00:33.4550</td>\n",
              "      <td>2019-09-01 00:03:30.3780</td>\n",
              "      <td>3095</td>\n",
              "      <td>Graham Ave &amp; Herbert St</td>\n",
              "      <td>40.719293</td>\n",
              "      <td>-73.945004</td>\n",
              "      <td>3668</td>\n",
              "      <td>Leonard St &amp; Nassau Ave</td>\n",
              "      <td>40.723957</td>\n",
              "      <td>-73.949844</td>\n",
              "      <td>1991</td>\n",
              "      <td>28</td>\n",
              "      <td>Middle Age</td>\n",
              "      <td>POINT (-73.94984 40.72396)</td>\n",
              "    </tr>\n",
              "  </tbody>\n",
              "</table>\n",
              "</div>\n",
              "      <button class=\"colab-df-convert\" onclick=\"convertToInteractive('df-9258ef29-05f2-4f19-8232-5c974033b2b8')\"\n",
              "              title=\"Convert this dataframe to an interactive table.\"\n",
              "              style=\"display:none;\">\n",
              "        \n",
              "  <svg xmlns=\"http://www.w3.org/2000/svg\" height=\"24px\"viewBox=\"0 0 24 24\"\n",
              "       width=\"24px\">\n",
              "    <path d=\"M0 0h24v24H0V0z\" fill=\"none\"/>\n",
              "    <path d=\"M18.56 5.44l.94 2.06.94-2.06 2.06-.94-2.06-.94-.94-2.06-.94 2.06-2.06.94zm-11 1L8.5 8.5l.94-2.06 2.06-.94-2.06-.94L8.5 2.5l-.94 2.06-2.06.94zm10 10l.94 2.06.94-2.06 2.06-.94-2.06-.94-.94-2.06-.94 2.06-2.06.94z\"/><path d=\"M17.41 7.96l-1.37-1.37c-.4-.4-.92-.59-1.43-.59-.52 0-1.04.2-1.43.59L10.3 9.45l-7.72 7.72c-.78.78-.78 2.05 0 2.83L4 21.41c.39.39.9.59 1.41.59.51 0 1.02-.2 1.41-.59l7.78-7.78 2.81-2.81c.8-.78.8-2.07 0-2.86zM5.41 20L4 18.59l7.72-7.72 1.47 1.35L5.41 20z\"/>\n",
              "  </svg>\n",
              "      </button>\n",
              "      \n",
              "  <style>\n",
              "    .colab-df-container {\n",
              "      display:flex;\n",
              "      flex-wrap:wrap;\n",
              "      gap: 12px;\n",
              "    }\n",
              "\n",
              "    .colab-df-convert {\n",
              "      background-color: #E8F0FE;\n",
              "      border: none;\n",
              "      border-radius: 50%;\n",
              "      cursor: pointer;\n",
              "      display: none;\n",
              "      fill: #1967D2;\n",
              "      height: 32px;\n",
              "      padding: 0 0 0 0;\n",
              "      width: 32px;\n",
              "    }\n",
              "\n",
              "    .colab-df-convert:hover {\n",
              "      background-color: #E2EBFA;\n",
              "      box-shadow: 0px 1px 2px rgba(60, 64, 67, 0.3), 0px 1px 3px 1px rgba(60, 64, 67, 0.15);\n",
              "      fill: #174EA6;\n",
              "    }\n",
              "\n",
              "    [theme=dark] .colab-df-convert {\n",
              "      background-color: #3B4455;\n",
              "      fill: #D2E3FC;\n",
              "    }\n",
              "\n",
              "    [theme=dark] .colab-df-convert:hover {\n",
              "      background-color: #434B5C;\n",
              "      box-shadow: 0px 1px 3px 1px rgba(0, 0, 0, 0.15);\n",
              "      filter: drop-shadow(0px 1px 2px rgba(0, 0, 0, 0.3));\n",
              "      fill: #FFFFFF;\n",
              "    }\n",
              "  </style>\n",
              "\n",
              "      <script>\n",
              "        const buttonEl =\n",
              "          document.querySelector('#df-9258ef29-05f2-4f19-8232-5c974033b2b8 button.colab-df-convert');\n",
              "        buttonEl.style.display =\n",
              "          google.colab.kernel.accessAllowed ? 'block' : 'none';\n",
              "\n",
              "        async function convertToInteractive(key) {\n",
              "          const element = document.querySelector('#df-9258ef29-05f2-4f19-8232-5c974033b2b8');\n",
              "          const dataTable =\n",
              "            await google.colab.kernel.invokeFunction('convertToInteractive',\n",
              "                                                     [key], {});\n",
              "          if (!dataTable) return;\n",
              "\n",
              "          const docLinkHtml = 'Like what you see? Visit the ' +\n",
              "            '<a target=\"_blank\" href=https://colab.research.google.com/notebooks/data_table.ipynb>data table notebook</a>'\n",
              "            + ' to learn more about interactive tables.';\n",
              "          element.innerHTML = '';\n",
              "          dataTable['output_type'] = 'display_data';\n",
              "          await google.colab.output.renderOutput(dataTable, element);\n",
              "          const docLink = document.createElement('div');\n",
              "          docLink.innerHTML = docLinkHtml;\n",
              "          element.appendChild(docLink);\n",
              "        }\n",
              "      </script>\n",
              "    </div>\n",
              "  </div>\n",
              "  "
            ],
            "text/plain": [
              "   Unnamed: 0  tripduration                 starttime  \\\n",
              "0           0          1753  2019-09-01 00:00:08.0640   \n",
              "1           1           613  2019-09-01 00:00:12.8510   \n",
              "2           2           831  2019-09-01 00:00:32.4180   \n",
              "3           3           168  2019-09-01 00:00:33.0870   \n",
              "4           4           176  2019-09-01 00:00:33.4550   \n",
              "\n",
              "                   stoptime  start station id       start station name  \\\n",
              "0  2019-09-01 00:29:21.5040              3299       E 98 St & Park Ave   \n",
              "1  2019-09-01 00:10:26.1850               486       Broadway & W 29 St   \n",
              "2  2019-09-01 00:14:24.3550               435          W 21 St & 6 Ave   \n",
              "3  2019-09-01 00:03:21.5970              3526           31 St & 23 Ave   \n",
              "4  2019-09-01 00:03:30.3780              3095  Graham Ave & Herbert St   \n",
              "\n",
              "   start station latitude  start station longitude  end station id  \\\n",
              "0               40.788130               -73.952060            3160   \n",
              "1               40.746201               -73.988557             478   \n",
              "2               40.741740               -73.994156             173   \n",
              "3               40.774788               -73.912555            3517   \n",
              "4               40.719293               -73.945004            3668   \n",
              "\n",
              "              end station name  end station latitude  end station longitude  \\\n",
              "0  Central Park West & W 76 St             40.778968             -73.973747   \n",
              "1             11 Ave & W 41 St             40.760301             -73.998842   \n",
              "2           Broadway & W 49 St             40.760683             -73.984527   \n",
              "3           31 St & Hoyt Ave N             40.771153             -73.917007   \n",
              "4      Leonard St & Nassau Ave             40.723957             -73.949844   \n",
              "\n",
              "   birth year  age  age_groups                    geometry  \n",
              "0        1990   29  Middle Age  POINT (-73.97375 40.77897)  \n",
              "1        1992   27  Middle Age  POINT (-73.99884 40.76030)  \n",
              "2        1986   33  Middle Age  POINT (-73.98453 40.76068)  \n",
              "3        1985   34  Middle Age  POINT (-73.91701 40.77115)  \n",
              "4        1991   28  Middle Age  POINT (-73.94984 40.72396)  "
            ]
          },
          "execution_count": 39,
          "metadata": {},
          "output_type": "execute_result"
        }
      ],
      "source": [
        "middle_gdf = gpd.GeoDataFrame(data=Middle_age, geometry=gpd.points_from_xy(Middle_age['end station longitude'], Middle_age['end station latitude']))\n",
        "middle_gdf.head()\n"
      ]
    },
    {
      "cell_type": "code",
      "execution_count": null,
      "metadata": {
        "colab": {
          "background_save": true
        },
        "id": "RPexvyAGyGkJ",
        "outputId": "7384f4b0-2b8d-4695-fd34-27dabb295e4c"
      },
      "outputs": [
        {
          "name": "stderr",
          "output_type": "stream",
          "text": [
            "<ipython-input-40-e6632b95462e>:1: SettingWithCopyWarning: \n",
            "A value is trying to be set on a copy of a slice from a DataFrame.\n",
            "Try using .loc[row_indexer,col_indexer] = value instead\n",
            "\n",
            "See the caveats in the documentation: https://pandas.pydata.org/pandas-docs/stable/user_guide/indexing.html#returning-a-view-versus-a-copy\n",
            "  Bike_true['starttime'] = pd.to_datetime(Bike_true['starttime'])\n",
            "<ipython-input-40-e6632b95462e>:2: SettingWithCopyWarning: \n",
            "A value is trying to be set on a copy of a slice from a DataFrame.\n",
            "Try using .loc[row_indexer,col_indexer] = value instead\n",
            "\n",
            "See the caveats in the documentation: https://pandas.pydata.org/pandas-docs/stable/user_guide/indexing.html#returning-a-view-versus-a-copy\n",
            "  Bike_true['stoptime'] = pd.to_datetime(Bike_true['stoptime'])\n"
          ]
        },
        {
          "data": {
            "text/html": [
              "\n",
              "  <div id=\"df-769d0c86-79d6-4e02-a64a-10eb0963e431\">\n",
              "    <div class=\"colab-df-container\">\n",
              "      <div>\n",
              "<style scoped>\n",
              "    .dataframe tbody tr th:only-of-type {\n",
              "        vertical-align: middle;\n",
              "    }\n",
              "\n",
              "    .dataframe tbody tr th {\n",
              "        vertical-align: top;\n",
              "    }\n",
              "\n",
              "    .dataframe thead th {\n",
              "        text-align: right;\n",
              "    }\n",
              "</style>\n",
              "<table border=\"1\" class=\"dataframe\">\n",
              "  <thead>\n",
              "    <tr style=\"text-align: right;\">\n",
              "      <th></th>\n",
              "      <th></th>\n",
              "      <th>tripduration</th>\n",
              "      <th>starttime</th>\n",
              "      <th>stoptime</th>\n",
              "      <th>start station id</th>\n",
              "      <th>start station name</th>\n",
              "      <th>start station latitude</th>\n",
              "      <th>start station longitude</th>\n",
              "      <th>end station id</th>\n",
              "      <th>end station name</th>\n",
              "      <th>end station latitude</th>\n",
              "      <th>end station longitude</th>\n",
              "      <th>birth year</th>\n",
              "      <th>age</th>\n",
              "      <th>age_groups</th>\n",
              "    </tr>\n",
              "    <tr>\n",
              "      <th>age_groups</th>\n",
              "      <th></th>\n",
              "      <th></th>\n",
              "      <th></th>\n",
              "      <th></th>\n",
              "      <th></th>\n",
              "      <th></th>\n",
              "      <th></th>\n",
              "      <th></th>\n",
              "      <th></th>\n",
              "      <th></th>\n",
              "      <th></th>\n",
              "      <th></th>\n",
              "      <th></th>\n",
              "      <th></th>\n",
              "      <th></th>\n",
              "    </tr>\n",
              "  </thead>\n",
              "  <tbody>\n",
              "    <tr>\n",
              "      <th rowspan=\"5\" valign=\"top\">Middle Age</th>\n",
              "      <th>3</th>\n",
              "      <td>1753</td>\n",
              "      <td>2019-09-01 00:00:08.064</td>\n",
              "      <td>2019-09-01 00:29:21.504</td>\n",
              "      <td>3299</td>\n",
              "      <td>E 98 St &amp; Park Ave</td>\n",
              "      <td>40.788130</td>\n",
              "      <td>-73.952060</td>\n",
              "      <td>3160</td>\n",
              "      <td>Central Park West &amp; W 76 St</td>\n",
              "      <td>40.778968</td>\n",
              "      <td>-73.973747</td>\n",
              "      <td>1990</td>\n",
              "      <td>29</td>\n",
              "      <td>Middle Age</td>\n",
              "    </tr>\n",
              "    <tr>\n",
              "      <th>4</th>\n",
              "      <td>613</td>\n",
              "      <td>2019-09-01 00:00:12.851</td>\n",
              "      <td>2019-09-01 00:10:26.185</td>\n",
              "      <td>486</td>\n",
              "      <td>Broadway &amp; W 29 St</td>\n",
              "      <td>40.746201</td>\n",
              "      <td>-73.988557</td>\n",
              "      <td>478</td>\n",
              "      <td>11 Ave &amp; W 41 St</td>\n",
              "      <td>40.760301</td>\n",
              "      <td>-73.998842</td>\n",
              "      <td>1992</td>\n",
              "      <td>27</td>\n",
              "      <td>Middle Age</td>\n",
              "    </tr>\n",
              "    <tr>\n",
              "      <th>11</th>\n",
              "      <td>831</td>\n",
              "      <td>2019-09-01 00:00:32.418</td>\n",
              "      <td>2019-09-01 00:14:24.355</td>\n",
              "      <td>435</td>\n",
              "      <td>W 21 St &amp; 6 Ave</td>\n",
              "      <td>40.741740</td>\n",
              "      <td>-73.994156</td>\n",
              "      <td>173</td>\n",
              "      <td>Broadway &amp; W 49 St</td>\n",
              "      <td>40.760683</td>\n",
              "      <td>-73.984527</td>\n",
              "      <td>1986</td>\n",
              "      <td>33</td>\n",
              "      <td>Middle Age</td>\n",
              "    </tr>\n",
              "    <tr>\n",
              "      <th>12</th>\n",
              "      <td>168</td>\n",
              "      <td>2019-09-01 00:00:33.087</td>\n",
              "      <td>2019-09-01 00:03:21.597</td>\n",
              "      <td>3526</td>\n",
              "      <td>31 St &amp; 23 Ave</td>\n",
              "      <td>40.774788</td>\n",
              "      <td>-73.912555</td>\n",
              "      <td>3517</td>\n",
              "      <td>31 St &amp; Hoyt Ave N</td>\n",
              "      <td>40.771153</td>\n",
              "      <td>-73.917007</td>\n",
              "      <td>1985</td>\n",
              "      <td>34</td>\n",
              "      <td>Middle Age</td>\n",
              "    </tr>\n",
              "    <tr>\n",
              "      <th>13</th>\n",
              "      <td>176</td>\n",
              "      <td>2019-09-01 00:00:33.455</td>\n",
              "      <td>2019-09-01 00:03:30.378</td>\n",
              "      <td>3095</td>\n",
              "      <td>Graham Ave &amp; Herbert St</td>\n",
              "      <td>40.719293</td>\n",
              "      <td>-73.945004</td>\n",
              "      <td>3668</td>\n",
              "      <td>Leonard St &amp; Nassau Ave</td>\n",
              "      <td>40.723957</td>\n",
              "      <td>-73.949844</td>\n",
              "      <td>1991</td>\n",
              "      <td>28</td>\n",
              "      <td>Middle Age</td>\n",
              "    </tr>\n",
              "  </tbody>\n",
              "</table>\n",
              "</div>\n",
              "      <button class=\"colab-df-convert\" onclick=\"convertToInteractive('df-769d0c86-79d6-4e02-a64a-10eb0963e431')\"\n",
              "              title=\"Convert this dataframe to an interactive table.\"\n",
              "              style=\"display:none;\">\n",
              "        \n",
              "  <svg xmlns=\"http://www.w3.org/2000/svg\" height=\"24px\"viewBox=\"0 0 24 24\"\n",
              "       width=\"24px\">\n",
              "    <path d=\"M0 0h24v24H0V0z\" fill=\"none\"/>\n",
              "    <path d=\"M18.56 5.44l.94 2.06.94-2.06 2.06-.94-2.06-.94-.94-2.06-.94 2.06-2.06.94zm-11 1L8.5 8.5l.94-2.06 2.06-.94-2.06-.94L8.5 2.5l-.94 2.06-2.06.94zm10 10l.94 2.06.94-2.06 2.06-.94-2.06-.94-.94-2.06-.94 2.06-2.06.94z\"/><path d=\"M17.41 7.96l-1.37-1.37c-.4-.4-.92-.59-1.43-.59-.52 0-1.04.2-1.43.59L10.3 9.45l-7.72 7.72c-.78.78-.78 2.05 0 2.83L4 21.41c.39.39.9.59 1.41.59.51 0 1.02-.2 1.41-.59l7.78-7.78 2.81-2.81c.8-.78.8-2.07 0-2.86zM5.41 20L4 18.59l7.72-7.72 1.47 1.35L5.41 20z\"/>\n",
              "  </svg>\n",
              "      </button>\n",
              "      \n",
              "  <style>\n",
              "    .colab-df-container {\n",
              "      display:flex;\n",
              "      flex-wrap:wrap;\n",
              "      gap: 12px;\n",
              "    }\n",
              "\n",
              "    .colab-df-convert {\n",
              "      background-color: #E8F0FE;\n",
              "      border: none;\n",
              "      border-radius: 50%;\n",
              "      cursor: pointer;\n",
              "      display: none;\n",
              "      fill: #1967D2;\n",
              "      height: 32px;\n",
              "      padding: 0 0 0 0;\n",
              "      width: 32px;\n",
              "    }\n",
              "\n",
              "    .colab-df-convert:hover {\n",
              "      background-color: #E2EBFA;\n",
              "      box-shadow: 0px 1px 2px rgba(60, 64, 67, 0.3), 0px 1px 3px 1px rgba(60, 64, 67, 0.15);\n",
              "      fill: #174EA6;\n",
              "    }\n",
              "\n",
              "    [theme=dark] .colab-df-convert {\n",
              "      background-color: #3B4455;\n",
              "      fill: #D2E3FC;\n",
              "    }\n",
              "\n",
              "    [theme=dark] .colab-df-convert:hover {\n",
              "      background-color: #434B5C;\n",
              "      box-shadow: 0px 1px 3px 1px rgba(0, 0, 0, 0.15);\n",
              "      filter: drop-shadow(0px 1px 2px rgba(0, 0, 0, 0.3));\n",
              "      fill: #FFFFFF;\n",
              "    }\n",
              "  </style>\n",
              "\n",
              "      <script>\n",
              "        const buttonEl =\n",
              "          document.querySelector('#df-769d0c86-79d6-4e02-a64a-10eb0963e431 button.colab-df-convert');\n",
              "        buttonEl.style.display =\n",
              "          google.colab.kernel.accessAllowed ? 'block' : 'none';\n",
              "\n",
              "        async function convertToInteractive(key) {\n",
              "          const element = document.querySelector('#df-769d0c86-79d6-4e02-a64a-10eb0963e431');\n",
              "          const dataTable =\n",
              "            await google.colab.kernel.invokeFunction('convertToInteractive',\n",
              "                                                     [key], {});\n",
              "          if (!dataTable) return;\n",
              "\n",
              "          const docLinkHtml = 'Like what you see? Visit the ' +\n",
              "            '<a target=\"_blank\" href=https://colab.research.google.com/notebooks/data_table.ipynb>data table notebook</a>'\n",
              "            + ' to learn more about interactive tables.';\n",
              "          element.innerHTML = '';\n",
              "          dataTable['output_type'] = 'display_data';\n",
              "          await google.colab.output.renderOutput(dataTable, element);\n",
              "          const docLink = document.createElement('div');\n",
              "          docLink.innerHTML = docLinkHtml;\n",
              "          element.appendChild(docLink);\n",
              "        }\n",
              "      </script>\n",
              "    </div>\n",
              "  </div>\n",
              "  "
            ],
            "text/plain": [
              "               tripduration               starttime                stoptime  \\\n",
              "age_groups                                                                    \n",
              "Middle Age 3           1753 2019-09-01 00:00:08.064 2019-09-01 00:29:21.504   \n",
              "           4            613 2019-09-01 00:00:12.851 2019-09-01 00:10:26.185   \n",
              "           11           831 2019-09-01 00:00:32.418 2019-09-01 00:14:24.355   \n",
              "           12           168 2019-09-01 00:00:33.087 2019-09-01 00:03:21.597   \n",
              "           13           176 2019-09-01 00:00:33.455 2019-09-01 00:03:30.378   \n",
              "\n",
              "               start station id       start station name  \\\n",
              "age_groups                                                 \n",
              "Middle Age 3               3299       E 98 St & Park Ave   \n",
              "           4                486       Broadway & W 29 St   \n",
              "           11               435          W 21 St & 6 Ave   \n",
              "           12              3526           31 St & 23 Ave   \n",
              "           13              3095  Graham Ave & Herbert St   \n",
              "\n",
              "               start station latitude  start station longitude  \\\n",
              "age_groups                                                       \n",
              "Middle Age 3                40.788130               -73.952060   \n",
              "           4                40.746201               -73.988557   \n",
              "           11               40.741740               -73.994156   \n",
              "           12               40.774788               -73.912555   \n",
              "           13               40.719293               -73.945004   \n",
              "\n",
              "               end station id             end station name  \\\n",
              "age_groups                                                   \n",
              "Middle Age 3             3160  Central Park West & W 76 St   \n",
              "           4              478             11 Ave & W 41 St   \n",
              "           11             173           Broadway & W 49 St   \n",
              "           12            3517           31 St & Hoyt Ave N   \n",
              "           13            3668      Leonard St & Nassau Ave   \n",
              "\n",
              "               end station latitude  end station longitude  birth year  age  \\\n",
              "age_groups                                                                    \n",
              "Middle Age 3              40.778968             -73.973747        1990   29   \n",
              "           4              40.760301             -73.998842        1992   27   \n",
              "           11             40.760683             -73.984527        1986   33   \n",
              "           12             40.771153             -73.917007        1985   34   \n",
              "           13             40.723957             -73.949844        1991   28   \n",
              "\n",
              "               age_groups  \n",
              "age_groups                 \n",
              "Middle Age 3   Middle Age  \n",
              "           4   Middle Age  \n",
              "           11  Middle Age  \n",
              "           12  Middle Age  \n",
              "           13  Middle Age  "
            ]
          },
          "execution_count": 40,
          "metadata": {},
          "output_type": "execute_result"
        }
      ],
      "source": [
        "Bike_true['starttime'] = pd.to_datetime(Bike_true['starttime'])\n",
        "Bike_true['stoptime'] = pd.to_datetime(Bike_true['stoptime'])\n",
        "Bike_true.head()"
      ]
    },
    {
      "cell_type": "code",
      "execution_count": null,
      "metadata": {
        "colab": {
          "background_save": true
        },
        "id": "xReJSi7lyxFW",
        "outputId": "ab2e85c6-2f5b-4dcd-cc80-ea7147b64cde"
      },
      "outputs": [
        {
          "name": "stdout",
          "output_type": "stream",
          "text": [
            "Time span: 2019-09-01 00:00:01.958000 - 2019-10-01 00:28:47.318000\n"
          ]
        }
      ],
      "source": [
        "#\n",
        "print(f'Time span: {Bike_true[\"starttime\"].min()} - {Bike_true[\"stoptime\"].max()}')"
      ]
    },
    {
      "cell_type": "markdown",
      "metadata": {
        "id": "NbTXun87BPmT"
      },
      "source": [
        "# Visualization"
      ]
    },
    {
      "cell_type": "code",
      "execution_count": null,
      "metadata": {
        "colab": {
          "base_uri": "https://localhost:8080/",
          "height": 663
        },
        "id": "vcGbSBfZO-D3",
        "outputId": "b5c33c99-ecee-4001-fec0-1d0a4c2c3ac8"
      },
      "outputs": [
        {
          "output_type": "execute_result",
          "data": {
            "text/plain": [
              "<Axes: >"
            ]
          },
          "metadata": {},
          "execution_count": 42
        },
        {
          "output_type": "display_data",
          "data": {
            "text/plain": [
              "<Figure size 1200x800 with 2 Axes>"
            ],
            "image/png": "[encoded data removed]"
          },
          "metadata": {}
        }
      ],
      "source": [
        "fig3, ax3 = plt.subplots(1,2, sharey=True, tight_layout = True, figsize = (12,8))\n",
        "middle_gdf.plot(column = middle_gdf['geometry'], cmap = 'Greens', ax=ax3[0], markersize = 3)\n",
        "middle_gdf.plot(column = middle_gdf['geometry'], cmap = 'Reds', ax=ax3[1], markersize = 3)"
      ]
    },
    {
      "cell_type": "code",
      "execution_count": null,
      "metadata": {
        "id": "fRiy0PQXJIlu"
      },
      "outputs": [],
      "source": [
        "Middle_Diff_Start = middle_gdf[~middle_gdf.geometry.isin(middle_gdf)]\n",
        "Middle_Diff_End = middle_gdf[~middle_gdf.geometry.isin(middle_gdf)]\n"
      ]
    },
    {
      "cell_type": "code",
      "execution_count": null,
      "metadata": {
        "id": "cZXVW54_yGXR"
      },
      "outputs": [],
      "source": [
        "middle_gdf.to_csv('Middle_gdf.csv')"
      ]
    },
    {
      "cell_type": "code",
      "execution_count": null,
      "metadata": {
        "id": "dWM5KHa12yA3"
      },
      "outputs": [],
      "source": [
        "p_geometry = [Point(xy) for xy in zip(middle_gdf['start station longitude'], middle_gdf['start station latitude'])]\n",
        "p_gdf = gpd.GeoDataFrame(middle_gdf, geometry=p_geometry)\n",
        "\n",
        "# Set the coordinate reference system (CRS) if known\n",
        "p_gdf.crs = 'EPSG:4326'  # Example: WGS84"
      ]
    },
    {
      "cell_type": "code",
      "execution_count": null,
      "metadata": {
        "colab": {
          "base_uri": "https://localhost:8080/"
        },
        "id": "ZBgHJhIE3iRQ",
        "outputId": "37c362bd-06af-44ed-a5bc-0d594253d3a6"
      },
      "outputs": [
        {
          "output_type": "stream",
          "name": "stderr",
          "text": [
            "<ipython-input-47-d788d415e239>:2: UserWarning: Column names longer than 10 characters will be truncated when saved to ESRI Shapefile.\n",
            "  p_gdf.to_file(output_shp, driver='ESRI Shapefile')\n",
            "WARNING:fiona._env:Normalized/laundered field name: 'Unnamed: 0' to 'Unnamed_ 0'\n",
            "WARNING:fiona._env:Normalized/laundered field name: 'tripduration' to 'tripdurati'\n",
            "WARNING:fiona._env:Normalized/laundered field name: 'start station id' to 'start stat'\n",
            "WARNING:fiona._env:Normalized/laundered field name: 'start station name' to 'start st_1'\n",
            "WARNING:fiona._env:Normalized/laundered field name: 'start station latitude' to 'start st_2'\n",
            "WARNING:fiona._env:Normalized/laundered field name: 'start station longitude' to 'start st_3'\n",
            "WARNING:fiona._env:Normalized/laundered field name: 'end station id' to 'end statio'\n",
            "WARNING:fiona._env:Normalized/laundered field name: 'end station name' to 'end stat_1'\n",
            "WARNING:fiona._env:Normalized/laundered field name: 'end station latitude' to 'end stat_2'\n",
            "WARNING:fiona._env:Normalized/laundered field name: 'end station longitude' to 'end stat_3'\n"
          ]
        }
      ],
      "source": [
        "output_shp = 'p_middle.shp'\n",
        "p_gdf.to_file(output_shp, driver='ESRI Shapefile')"
      ]
    },
    {
      "cell_type": "code",
      "execution_count": null,
      "metadata": {
        "id": "zuUdZMpW301N"
      },
      "outputs": [],
      "source": [
        "data = gpd.read_file('/content/p_middle.shp')"
      ]
    },
    {
      "cell_type": "code",
      "execution_count": null,
      "metadata": {
        "id": "3i5xWAFB2FOe",
        "colab": {
          "base_uri": "https://localhost:8080/"
        },
        "outputId": "8c5f05b4-eacd-4c45-8030-b3e7af7ac5fa"
      },
      "outputs": [
        {
          "output_type": "stream",
          "name": "stderr",
          "text": [
            "/usr/local/lib/python3.10/dist-packages/libpysal/weights/weights.py:172: UserWarning: The weights matrix is not fully connected: \n",
            " There are 804 disconnected components.\n",
            "  warnings.warn(message)\n"
          ]
        }
      ],
      "source": [
        "# Generate a k-nearest neighbor weights matrix\n",
        "k = 5  # Number of nearest neighbors\n",
        "weights = KNN.from_dataframe(data, k=k)"
      ]
    },
    {
      "cell_type": "code",
      "execution_count": null,
      "metadata": {
        "id": "DYrNby0D4LaS"
      },
      "outputs": [],
      "source": [
        "lisa = esda.Moran_Local(data['tripdurati'], weights)"
      ]
    },
    {
      "cell_type": "code",
      "execution_count": null,
      "metadata": {
        "id": "S6hIeCW6Fzl9"
      },
      "outputs": [],
      "source": [
        "# Set figure size\n",
        "fig, ax = plt.subplots(figsize=(10,10))\n",
        "ax.set_aspect('equal')\n",
        "\n",
        "# Import NYC Neighborhood Shape Files\n",
        "nyc_full = gpd.read_file('/content/nyc.shx')\n",
        "nyc_full.plot(ax=ax, alpha=0.4, edgecolor='darkgrey', color='lightgrey', label=nyc_full['geometry'], zorder=1)"
      ]
    },
    {
      "cell_type": "code",
      "execution_count": null,
      "metadata": {
        "id": "qEu7WTCy6kZE"
      },
      "outputs": [],
      "source": [
        "fig, ax = plt.subplots(figsize=(10, 10))\n",
        "gpd.plotting.plot_dataframe(data, ax=ax, facecolor='gray')  # Plot the base map\n",
        "\n",
        "# Plot LISA clusters using different colors\n",
        "lisa_cluster_colors = ['red', 'blue', 'orange', 'yellow', 'green']\n",
        "legend_labels = ['Cluster 1', 'Cluster 2', 'Cluster 3', 'Cluster 4', 'Cluster 5']  # Labels for the legend\n",
        "\n",
        "for i, cluster in enumerate(lisa.q):\n",
        "    if cluster > 0:\n",
        "        color = lisa_cluster_colors[cluster]\n",
        "        ax.plot(data.geometry[i].x, data.geometry[i].y, 'o', color=color, markersize=5)\n",
        "\n",
        "# Create legend\n",
        "legend_elements = [plt.Line2D([0], [0], marker='o', color='w', label=label, markerfacecolor=color, markersize=8)\n",
        "                   for label, color in zip(legend_labels, lisa_cluster_colors)]\n",
        "ax.legend(handles=legend_elements, loc='lower right')\n",
        "\n",
        "plt.show()"
      ]
    },
    {
      "cell_type": "code",
      "execution_count": null,
      "metadata": {
        "id": "T5KJbhN98PKL"
      },
      "outputs": [],
      "source": [
        "data.head()"
      ]
    },
    {
      "cell_type": "code",
      "execution_count": null,
      "metadata": {
        "id": "BLHeqfwU743d"
      },
      "outputs": [],
      "source": [
        "sns.pointplot(x = 'tripdurati', y = 'start stat', data = data)\n",
        "sns.despine()"
      ]
    },
    {
      "cell_type": "code",
      "execution_count": null,
      "metadata": {
        "id": "6uB7SN9b9EqC"
      },
      "outputs": [],
      "source": [
        "middle_gdf.head()"
      ]
    },
    {
      "cell_type": "code",
      "execution_count": null,
      "metadata": {
        "id": "aXgpXDBB9LMW"
      },
      "outputs": [],
      "source": [
        "\n",
        "#calculate frequency of trip duration\n",
        "\n",
        "duration_counts = middle_gdf['tripduration'].value_counts()\n",
        "\n",
        "# Print frequency\n",
        "print(duration_counts)\n"
      ]
    },
    {
      "cell_type": "markdown",
      "metadata": {
        "id": "C3IhR6rhrNjd"
      },
      "source": [
        "**LISA Clustering for Frequency**"
      ]
    },
    {
      "cell_type": "code",
      "execution_count": null,
      "metadata": {
        "id": "yA26ydgWjCK0"
      },
      "outputs": [],
      "source": [
        "ssd = []\n",
        "for i in range(2, 26):\n",
        "    km = MiniBatchKMeans(n_clusters=i)\n",
        "    km.fit_predict(df_pickup_filtered)\n",
        "    ssd.append(km.inertia_)"
      ]
    },
    {
      "cell_type": "code",
      "execution_count": null,
      "metadata": {
        "id": "OrnSEXv9qKR7"
      },
      "outputs": [],
      "source": [
        "demand_by_station = daily_data.pivot_table(\n",
        "    index='start_station_name', columns='month', values='n_bikes', aggfunc='sum')\n",
        "ax = sns.heatmap(demand_by_station, center=0, annot=False, cmap='RdBu_r')\n",
        "l, r = ax.get_ylim()\n",
        "ax.set_ylim(l + 0.5, r - 0.5)\n",
        "plt.yticks(rotation=0)\n",
        "plt.title('Demand by Station')\n",
        "plt.show()"
      ]
    },
    {
      "cell_type": "code",
      "execution_count": null,
      "metadata": {
        "id": "6V632FFA072u"
      },
      "outputs": [],
      "source": [
        "\n",
        "# Load bike share station data into a GeoDataFrame\n",
        "bike_stations = gpd.read_file('/content/YoungFrequencyTable.csv')  # Replace 'bike_stations.shp' with the path to your shapefile\n",
        "\n",
        "# Create spatial weights matrix (Queen's contiguity)\n",
        "w = lib.weights.Queen.from_dataframe(bike_stations)\n",
        "\n",
        "# Compute LISA statistics (Local Moran's I)\n",
        "lisa = esda.Moran_Local(bike_stations['FREQUENCY'], w)\n",
        "\n",
        "# Generate LISA cluster map\n",
        "bike_stations['LISA_cluster'] = lisa.q\n",
        "bike_stations.plot(column='LISA_cluster', cmap='coolwarm', legend=True)"
      ]
    },
    {
      "cell_type": "code",
      "execution_count": null,
      "metadata": {
        "id": "pmNnNNHJ4Dse"
      },
      "outputs": [],
      "source": [
        "!pip transbigdata"
      ]
    }
  ],
  "metadata": {
    "colab": {
      "provenance": [],
      "include_colab_link": true
    },
    "kernelspec": {
      "display_name": "Python 3",
      "name": "python3"
    },
    "language_info": {
      "name": "python"
    }
  },
  "nbformat": 4,
  "nbformat_minor": 0
}